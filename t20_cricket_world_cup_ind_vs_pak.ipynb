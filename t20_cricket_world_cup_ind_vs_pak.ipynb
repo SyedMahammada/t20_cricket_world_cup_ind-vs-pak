{
  "cells": [
    {
      "cell_type": "markdown",
      "metadata": {
        "id": "view-in-github",
        "colab_type": "text"
      },
      "source": [
        "<a href=\"https://colab.research.google.com/github/SyedMahammada/urban-chainsaw/blob/Master/t20_cricket_world_cup_ind_vs_pak.ipynb\" target=\"_parent\"><img src=\"https://colab.research.google.com/assets/colab-badge.svg\" alt=\"Open In Colab\"/></a>"
      ]
    },
    {
      "cell_type": "markdown",
      "metadata": {
        "id": "O5cwOVTYUSBC"
      },
      "source": [
        "# T20-cricket-world-cup-ind-vs-pak\n",
        "\n",
        "Use the \"Run\" button to execute the code."
      ]
    },
    {
      "cell_type": "code",
      "execution_count": null,
      "metadata": {
        "id": "FWwWTSdQi-Hl"
      },
      "outputs": [],
      "source": [
        "# Jovian Commit Essentials\n",
        "# Please retain and execute this cell without modifying the contents for `jovian.commit` to work\n",
        "!pip install jovian --upgrade -q\n",
        "import jovian\n",
        "jovian.set_project('major-project')\n",
        "jovian.set_colab_id('1_-I-JsomerG1SecUw_le4R0JQwIdGiD7')"
      ]
    },
    {
      "cell_type": "code",
      "execution_count": null,
      "metadata": {
        "id": "RjRS4TqCkUL7"
      },
      "outputs": [],
      "source": [
        "pip install opendatasets --upgrade --quiet"
      ]
    },
    {
      "cell_type": "code",
      "execution_count": null,
      "metadata": {
        "colab": {
          "base_uri": "https://localhost:8080/"
        },
        "id": "BVg9N4SGl0yE",
        "outputId": "98427a92-45c4-4552-aebe-ca01d7972271"
      },
      "outputs": [
        {
          "output_type": "stream",
          "name": "stdout",
          "text": [
            "Skipping, found downloaded files in \"./t20-cricket-world-cup-indvspak-tweets-2022\" (use force=True to force download)\n"
          ]
        }
      ],
      "source": [
        " import opendatasets as od\n",
        "download_url='https://www.kaggle.com/datasets/tejasurya/t20-cricket-world-cup-indvspak-tweets-2022'\n",
        "od.download(download_url)"
      ]
    },
    {
      "cell_type": "code",
      "execution_count": null,
      "metadata": {
        "colab": {
          "base_uri": "https://localhost:8080/"
        },
        "id": "fSqxJyq2nZTG",
        "outputId": "4d558715-c46f-4237-8e38-378780648bb3"
      },
      "outputs": [
        {
          "output_type": "stream",
          "name": "stdout",
          "text": [
            "Drive already mounted at /content/drive; to attempt to forcibly remount, call drive.mount(\"/content/drive\", force_remount=True).\n"
          ]
        }
      ],
      "source": [
        "from google.colab import drive\n",
        "drive.mount('/content/drive')"
      ]
    },
    {
      "cell_type": "code",
      "execution_count": null,
      "metadata": {
        "id": "Rvi9jrPpz4dP"
      },
      "outputs": [],
      "source": [
        "data_filename='/content/t20-cricket-world-cup-indvspak-tweets-2022/IndvsPak_tweets.csv'"
      ]
    },
    {
      "cell_type": "markdown",
      "source": [
        "##Data presentation"
      ],
      "metadata": {
        "id": "bXtYFXk_WiFY"
      }
    },
    {
      "cell_type": "code",
      "execution_count": null,
      "metadata": {
        "id": "8Mg1H0RVl0jT"
      },
      "outputs": [],
      "source": [
        "import pandas as pd"
      ]
    },
    {
      "cell_type": "code",
      "execution_count": null,
      "metadata": {
        "id": "pYJtTDx0l0PQ"
      },
      "outputs": [],
      "source": [
        "df = pd. read_csv(data_filename)"
      ]
    },
    {
      "cell_type": "code",
      "execution_count": null,
      "metadata": {
        "colab": {
          "base_uri": "https://localhost:8080/"
        },
        "id": "7lbSwp-2lxzW",
        "outputId": "74b3f5eb-6a37-4d77-d63c-c27776b7ff35"
      },
      "outputs": [
        {
          "output_type": "stream",
          "name": "stdout",
          "text": [
            "<class 'pandas.core.frame.DataFrame'>\n",
            "RangeIndex: 272270 entries, 0 to 272269\n",
            "Data columns (total 15 columns):\n",
            " #   Column                Non-Null Count   Dtype  \n",
            "---  ------                --------------   -----  \n",
            " 0   id                    272270 non-null  int64  \n",
            " 1   text                  272270 non-null  object \n",
            " 2   username              272270 non-null  object \n",
            " 3   hashtags              181837 non-null  object \n",
            " 4   created_at            272270 non-null  object \n",
            " 5   user followers count  272270 non-null  int64  \n",
            " 6   replycount            272270 non-null  int64  \n",
            " 7   retweetcount          272270 non-null  int64  \n",
            " 8   likecount             272270 non-null  int64  \n",
            " 9   quotecount            272270 non-null  int64  \n",
            " 10  language              272270 non-null  object \n",
            " 11  quotedtweet           0 non-null       float64\n",
            " 12  inReplyToTweetId      113243 non-null  float64\n",
            " 13  inReplyToUser         113243 non-null  object \n",
            " 14  mentionedUsers        272270 non-null  object \n",
            "dtypes: float64(2), int64(6), object(7)\n",
            "memory usage: 31.2+ MB\n"
          ]
        }
      ],
      "source": [
        "df.info()"
      ]
    },
    {
      "cell_type": "code",
      "source": [
        "df.dtypes"
      ],
      "metadata": {
        "colab": {
          "base_uri": "https://localhost:8080/"
        },
        "id": "e4rITQWtzjzG",
        "outputId": "966e209c-2c45-49b3-83b8-3640f609d307"
      },
      "execution_count": null,
      "outputs": [
        {
          "output_type": "execute_result",
          "data": {
            "text/plain": [
              "id                        int64\n",
              "text                     object\n",
              "username                 object\n",
              "hashtags                 object\n",
              "created_at               object\n",
              "user followers count      int64\n",
              "replycount                int64\n",
              "retweetcount              int64\n",
              "likecount                 int64\n",
              "quotecount                int64\n",
              "language                 object\n",
              "quotedtweet             float64\n",
              "inReplyToTweetId        float64\n",
              "inReplyToUser            object\n",
              "mentionedUsers           object\n",
              "dtype: object"
            ]
          },
          "metadata": {},
          "execution_count": 58
        }
      ]
    },
    {
      "cell_type": "code",
      "execution_count": null,
      "metadata": {
        "colab": {
          "base_uri": "https://localhost:8080/",
          "height": 300
        },
        "id": "om70bpPUi-Hp",
        "outputId": "b0f77318-2ede-4657-9f32-ce7560bf8775"
      },
      "outputs": [
        {
          "output_type": "execute_result",
          "data": {
            "text/plain": [
              "                 id  user followers count     replycount   retweetcount  \\\n",
              "count  2.722700e+05          2.722700e+05  272270.000000  272270.000000   \n",
              "mean   1.584127e+18          2.109285e+04       0.748345       1.967650   \n",
              "std    3.356743e+14          4.131762e+05      41.142936     135.135812   \n",
              "min    1.582161e+18          0.000000e+00       0.000000       0.000000   \n",
              "25%    1.584112e+18          1.500000e+01       0.000000       0.000000   \n",
              "50%    1.584155e+18          1.020000e+02       0.000000       0.000000   \n",
              "75%    1.584226e+18          5.810000e+02       0.000000       0.000000   \n",
              "max    1.584696e+18          8.370035e+07   15795.000000   39055.000000   \n",
              "\n",
              "           likecount     quotecount  quotedtweet  inReplyToTweetId  \n",
              "count  272270.000000  272270.000000          0.0      1.132430e+05  \n",
              "mean       24.312730       0.101142          NaN      1.583661e+18  \n",
              "std      1465.388204       4.873439          NaN      1.513379e+16  \n",
              "min         0.000000       0.000000          NaN      4.470185e+17  \n",
              "25%         0.000000       0.000000          NaN      1.584156e+18  \n",
              "50%         0.000000       0.000000          NaN      1.584170e+18  \n",
              "75%         1.000000       0.000000          NaN      1.584226e+18  \n",
              "max    474130.000000    1356.000000          NaN      1.584676e+18  "
            ],
            "text/html": [
              "\n",
              "  <div id=\"df-dd256db3-4904-4828-a91f-0ac7968f79f9\">\n",
              "    <div class=\"colab-df-container\">\n",
              "      <div>\n",
              "<style scoped>\n",
              "    .dataframe tbody tr th:only-of-type {\n",
              "        vertical-align: middle;\n",
              "    }\n",
              "\n",
              "    .dataframe tbody tr th {\n",
              "        vertical-align: top;\n",
              "    }\n",
              "\n",
              "    .dataframe thead th {\n",
              "        text-align: right;\n",
              "    }\n",
              "</style>\n",
              "<table border=\"1\" class=\"dataframe\">\n",
              "  <thead>\n",
              "    <tr style=\"text-align: right;\">\n",
              "      <th></th>\n",
              "      <th>id</th>\n",
              "      <th>user followers count</th>\n",
              "      <th>replycount</th>\n",
              "      <th>retweetcount</th>\n",
              "      <th>likecount</th>\n",
              "      <th>quotecount</th>\n",
              "      <th>quotedtweet</th>\n",
              "      <th>inReplyToTweetId</th>\n",
              "    </tr>\n",
              "  </thead>\n",
              "  <tbody>\n",
              "    <tr>\n",
              "      <th>count</th>\n",
              "      <td>2.722700e+05</td>\n",
              "      <td>2.722700e+05</td>\n",
              "      <td>272270.000000</td>\n",
              "      <td>272270.000000</td>\n",
              "      <td>272270.000000</td>\n",
              "      <td>272270.000000</td>\n",
              "      <td>0.0</td>\n",
              "      <td>1.132430e+05</td>\n",
              "    </tr>\n",
              "    <tr>\n",
              "      <th>mean</th>\n",
              "      <td>1.584127e+18</td>\n",
              "      <td>2.109285e+04</td>\n",
              "      <td>0.748345</td>\n",
              "      <td>1.967650</td>\n",
              "      <td>24.312730</td>\n",
              "      <td>0.101142</td>\n",
              "      <td>NaN</td>\n",
              "      <td>1.583661e+18</td>\n",
              "    </tr>\n",
              "    <tr>\n",
              "      <th>std</th>\n",
              "      <td>3.356743e+14</td>\n",
              "      <td>4.131762e+05</td>\n",
              "      <td>41.142936</td>\n",
              "      <td>135.135812</td>\n",
              "      <td>1465.388204</td>\n",
              "      <td>4.873439</td>\n",
              "      <td>NaN</td>\n",
              "      <td>1.513379e+16</td>\n",
              "    </tr>\n",
              "    <tr>\n",
              "      <th>min</th>\n",
              "      <td>1.582161e+18</td>\n",
              "      <td>0.000000e+00</td>\n",
              "      <td>0.000000</td>\n",
              "      <td>0.000000</td>\n",
              "      <td>0.000000</td>\n",
              "      <td>0.000000</td>\n",
              "      <td>NaN</td>\n",
              "      <td>4.470185e+17</td>\n",
              "    </tr>\n",
              "    <tr>\n",
              "      <th>25%</th>\n",
              "      <td>1.584112e+18</td>\n",
              "      <td>1.500000e+01</td>\n",
              "      <td>0.000000</td>\n",
              "      <td>0.000000</td>\n",
              "      <td>0.000000</td>\n",
              "      <td>0.000000</td>\n",
              "      <td>NaN</td>\n",
              "      <td>1.584156e+18</td>\n",
              "    </tr>\n",
              "    <tr>\n",
              "      <th>50%</th>\n",
              "      <td>1.584155e+18</td>\n",
              "      <td>1.020000e+02</td>\n",
              "      <td>0.000000</td>\n",
              "      <td>0.000000</td>\n",
              "      <td>0.000000</td>\n",
              "      <td>0.000000</td>\n",
              "      <td>NaN</td>\n",
              "      <td>1.584170e+18</td>\n",
              "    </tr>\n",
              "    <tr>\n",
              "      <th>75%</th>\n",
              "      <td>1.584226e+18</td>\n",
              "      <td>5.810000e+02</td>\n",
              "      <td>0.000000</td>\n",
              "      <td>0.000000</td>\n",
              "      <td>1.000000</td>\n",
              "      <td>0.000000</td>\n",
              "      <td>NaN</td>\n",
              "      <td>1.584226e+18</td>\n",
              "    </tr>\n",
              "    <tr>\n",
              "      <th>max</th>\n",
              "      <td>1.584696e+18</td>\n",
              "      <td>8.370035e+07</td>\n",
              "      <td>15795.000000</td>\n",
              "      <td>39055.000000</td>\n",
              "      <td>474130.000000</td>\n",
              "      <td>1356.000000</td>\n",
              "      <td>NaN</td>\n",
              "      <td>1.584676e+18</td>\n",
              "    </tr>\n",
              "  </tbody>\n",
              "</table>\n",
              "</div>\n",
              "      <button class=\"colab-df-convert\" onclick=\"convertToInteractive('df-dd256db3-4904-4828-a91f-0ac7968f79f9')\"\n",
              "              title=\"Convert this dataframe to an interactive table.\"\n",
              "              style=\"display:none;\">\n",
              "        \n",
              "  <svg xmlns=\"http://www.w3.org/2000/svg\" height=\"24px\"viewBox=\"0 0 24 24\"\n",
              "       width=\"24px\">\n",
              "    <path d=\"M0 0h24v24H0V0z\" fill=\"none\"/>\n",
              "    <path d=\"M18.56 5.44l.94 2.06.94-2.06 2.06-.94-2.06-.94-.94-2.06-.94 2.06-2.06.94zm-11 1L8.5 8.5l.94-2.06 2.06-.94-2.06-.94L8.5 2.5l-.94 2.06-2.06.94zm10 10l.94 2.06.94-2.06 2.06-.94-2.06-.94-.94-2.06-.94 2.06-2.06.94z\"/><path d=\"M17.41 7.96l-1.37-1.37c-.4-.4-.92-.59-1.43-.59-.52 0-1.04.2-1.43.59L10.3 9.45l-7.72 7.72c-.78.78-.78 2.05 0 2.83L4 21.41c.39.39.9.59 1.41.59.51 0 1.02-.2 1.41-.59l7.78-7.78 2.81-2.81c.8-.78.8-2.07 0-2.86zM5.41 20L4 18.59l7.72-7.72 1.47 1.35L5.41 20z\"/>\n",
              "  </svg>\n",
              "      </button>\n",
              "      \n",
              "  <style>\n",
              "    .colab-df-container {\n",
              "      display:flex;\n",
              "      flex-wrap:wrap;\n",
              "      gap: 12px;\n",
              "    }\n",
              "\n",
              "    .colab-df-convert {\n",
              "      background-color: #E8F0FE;\n",
              "      border: none;\n",
              "      border-radius: 50%;\n",
              "      cursor: pointer;\n",
              "      display: none;\n",
              "      fill: #1967D2;\n",
              "      height: 32px;\n",
              "      padding: 0 0 0 0;\n",
              "      width: 32px;\n",
              "    }\n",
              "\n",
              "    .colab-df-convert:hover {\n",
              "      background-color: #E2EBFA;\n",
              "      box-shadow: 0px 1px 2px rgba(60, 64, 67, 0.3), 0px 1px 3px 1px rgba(60, 64, 67, 0.15);\n",
              "      fill: #174EA6;\n",
              "    }\n",
              "\n",
              "    [theme=dark] .colab-df-convert {\n",
              "      background-color: #3B4455;\n",
              "      fill: #D2E3FC;\n",
              "    }\n",
              "\n",
              "    [theme=dark] .colab-df-convert:hover {\n",
              "      background-color: #434B5C;\n",
              "      box-shadow: 0px 1px 3px 1px rgba(0, 0, 0, 0.15);\n",
              "      filter: drop-shadow(0px 1px 2px rgba(0, 0, 0, 0.3));\n",
              "      fill: #FFFFFF;\n",
              "    }\n",
              "  </style>\n",
              "\n",
              "      <script>\n",
              "        const buttonEl =\n",
              "          document.querySelector('#df-dd256db3-4904-4828-a91f-0ac7968f79f9 button.colab-df-convert');\n",
              "        buttonEl.style.display =\n",
              "          google.colab.kernel.accessAllowed ? 'block' : 'none';\n",
              "\n",
              "        async function convertToInteractive(key) {\n",
              "          const element = document.querySelector('#df-dd256db3-4904-4828-a91f-0ac7968f79f9');\n",
              "          const dataTable =\n",
              "            await google.colab.kernel.invokeFunction('convertToInteractive',\n",
              "                                                     [key], {});\n",
              "          if (!dataTable) return;\n",
              "\n",
              "          const docLinkHtml = 'Like what you see? Visit the ' +\n",
              "            '<a target=\"_blank\" href=https://colab.research.google.com/notebooks/data_table.ipynb>data table notebook</a>'\n",
              "            + ' to learn more about interactive tables.';\n",
              "          element.innerHTML = '';\n",
              "          dataTable['output_type'] = 'display_data';\n",
              "          await google.colab.output.renderOutput(dataTable, element);\n",
              "          const docLink = document.createElement('div');\n",
              "          docLink.innerHTML = docLinkHtml;\n",
              "          element.appendChild(docLink);\n",
              "        }\n",
              "      </script>\n",
              "    </div>\n",
              "  </div>\n",
              "  "
            ]
          },
          "metadata": {},
          "execution_count": 59
        }
      ],
      "source": [
        "df.describe()"
      ]
    },
    {
      "cell_type": "code",
      "execution_count": null,
      "metadata": {
        "colab": {
          "base_uri": "https://localhost:8080/"
        },
        "id": "ggvGLPHGi-Hp",
        "outputId": "5e9fd0a1-d0f0-46b2-d158-679214738fdf"
      },
      "outputs": [
        {
          "output_type": "execute_result",
          "data": {
            "text/plain": [
              "8"
            ]
          },
          "metadata": {},
          "execution_count": 60
        }
      ],
      "source": [
        "numerics=['int16','int32','int64','float16','float32','float64']\n",
        "numeric_df=df.select_dtypes(include=numerics)\n",
        "len(numeric_df.columns)"
      ]
    },
    {
      "cell_type": "code",
      "execution_count": null,
      "metadata": {
        "colab": {
          "base_uri": "https://localhost:8080/"
        },
        "id": "XTjxM76Au2Xd",
        "outputId": "d4372fc3-b73e-4e0a-cd30-93cd493f2e36"
      },
      "outputs": [
        {
          "output_type": "execute_result",
          "data": {
            "text/plain": [
              "id                           0\n",
              "text                         0\n",
              "username                     0\n",
              "hashtags                 90433\n",
              "created_at                   0\n",
              "user followers count         0\n",
              "replycount                   0\n",
              "retweetcount                 0\n",
              "likecount                    0\n",
              "quotecount                   0\n",
              "language                     0\n",
              "quotedtweet             272270\n",
              "inReplyToTweetId        159027\n",
              "inReplyToUser           159027\n",
              "mentionedUsers               0\n",
              "dtype: int64"
            ]
          },
          "metadata": {},
          "execution_count": 61
        }
      ],
      "source": [
        "df.isna().sum()"
      ]
    },
    {
      "cell_type": "code",
      "execution_count": null,
      "metadata": {
        "colab": {
          "base_uri": "https://localhost:8080/"
        },
        "id": "5Tl4lm0Tv3Eh",
        "outputId": "c0793276-2f36-4dfe-877a-7da8a59cb5be"
      },
      "outputs": [
        {
          "output_type": "execute_result",
          "data": {
            "text/plain": [
              "Index(['id', 'text', 'username', 'hashtags', 'created_at',\n",
              "       'user followers count', 'replycount', 'retweetcount', 'likecount',\n",
              "       'quotecount', 'language', 'quotedtweet', 'inReplyToTweetId',\n",
              "       'inReplyToUser', 'mentionedUsers'],\n",
              "      dtype='object')"
            ]
          },
          "metadata": {},
          "execution_count": 62
        }
      ],
      "source": [
        "df.columns"
      ]
    },
    {
      "cell_type": "markdown",
      "source": [
        "#cleaning the dataset"
      ],
      "metadata": {
        "id": "Am3W9qG1XWLS"
      }
    },
    {
      "cell_type": "code",
      "execution_count": null,
      "metadata": {
        "colab": {
          "base_uri": "https://localhost:8080/"
        },
        "id": "bi22tjRBxzy2",
        "outputId": "b492d56b-a7e5-47bd-ad1e-35879cf4f5fe"
      },
      "outputs": [
        {
          "output_type": "execute_result",
          "data": {
            "text/plain": [
              "id                           0\n",
              "text                         0\n",
              "username                     0\n",
              "hashtags                 90433\n",
              "created_at                   0\n",
              "user followers count         0\n",
              "replycount                   0\n",
              "retweetcount                 0\n",
              "likecount                    0\n",
              "quotecount                   0\n",
              "language                     0\n",
              "quotedtweet             272270\n",
              "inReplyToTweetId        159027\n",
              "inReplyToUser           159027\n",
              "mentionedUsers               0\n",
              "dtype: int64"
            ]
          },
          "metadata": {},
          "execution_count": 63
        }
      ],
      "source": [
        "df.isnull().sum()"
      ]
    },
    {
      "cell_type": "code",
      "source": [
        "s=df.drop(['id', 'text','username','quotedtweet','likecount'], axis=1)\n",
        "s.head()"
      ],
      "metadata": {
        "colab": {
          "base_uri": "https://localhost:8080/",
          "height": 406
        },
        "id": "eQ1OfK6A1kcZ",
        "outputId": "24796a84-bbef-468a-a71b-4c16796b0bf9"
      },
      "execution_count": null,
      "outputs": [
        {
          "output_type": "execute_result",
          "data": {
            "text/plain": [
              "                                       hashtags                 created_at  \\\n",
              "0               ['INDvsPAK2022', 'T20WorldCup']  2022-10-24 23:34:23+00:00   \n",
              "1  ['INDvPAK', 'indvspakmatch', 'INDvsPAK2022']  2022-10-24 23:12:50+00:00   \n",
              "2                              ['INDvsPAK2022']  2022-10-24 23:11:57+00:00   \n",
              "3                              ['INDvsPAK2022']  2022-10-24 23:11:55+00:00   \n",
              "4     ['INDvPAK', 'INDvsPAK2022', 'T20Cricket']  2022-10-24 23:02:57+00:00   \n",
              "\n",
              "   user followers count  replycount  retweetcount  quotecount language  \\\n",
              "0                   538           0             0           0       en   \n",
              "1                    24           0             0           0       en   \n",
              "2                    56           0             0           0      qht   \n",
              "3                    56           0             0           0       en   \n",
              "4                    24           1             0           0       en   \n",
              "\n",
              "   inReplyToTweetId                       inReplyToUser  \\\n",
              "0               NaN                                 NaN   \n",
              "1      1.584539e+18    https://twitter.com/TheBarmyArmy   \n",
              "2               NaN                                 NaN   \n",
              "3               NaN                                 NaN   \n",
              "4      1.584460e+18  https://twitter.com/mufaddal_vohra   \n",
              "\n",
              "                                      mentionedUsers  \n",
              "0  Hangover of #INDvsPAK2022 is still around. #T2...  \n",
              "1  @TheBarmyArmy luv it \\n\\n❤️❤️❤️\\n\\n#INDvPAK \\n...  \n",
              "2                                      #INDvsPAK2022  \n",
              "3                          No ball thi #INDvsPAK2022  \n",
              "4  @mufaddal_vohra @ImRo45 \\n@BCCI \\n\\nWhen will\\...  "
            ],
            "text/html": [
              "\n",
              "  <div id=\"df-86106b21-d088-430c-a834-17e2b96d9924\">\n",
              "    <div class=\"colab-df-container\">\n",
              "      <div>\n",
              "<style scoped>\n",
              "    .dataframe tbody tr th:only-of-type {\n",
              "        vertical-align: middle;\n",
              "    }\n",
              "\n",
              "    .dataframe tbody tr th {\n",
              "        vertical-align: top;\n",
              "    }\n",
              "\n",
              "    .dataframe thead th {\n",
              "        text-align: right;\n",
              "    }\n",
              "</style>\n",
              "<table border=\"1\" class=\"dataframe\">\n",
              "  <thead>\n",
              "    <tr style=\"text-align: right;\">\n",
              "      <th></th>\n",
              "      <th>hashtags</th>\n",
              "      <th>created_at</th>\n",
              "      <th>user followers count</th>\n",
              "      <th>replycount</th>\n",
              "      <th>retweetcount</th>\n",
              "      <th>quotecount</th>\n",
              "      <th>language</th>\n",
              "      <th>inReplyToTweetId</th>\n",
              "      <th>inReplyToUser</th>\n",
              "      <th>mentionedUsers</th>\n",
              "    </tr>\n",
              "  </thead>\n",
              "  <tbody>\n",
              "    <tr>\n",
              "      <th>0</th>\n",
              "      <td>['INDvsPAK2022', 'T20WorldCup']</td>\n",
              "      <td>2022-10-24 23:34:23+00:00</td>\n",
              "      <td>538</td>\n",
              "      <td>0</td>\n",
              "      <td>0</td>\n",
              "      <td>0</td>\n",
              "      <td>en</td>\n",
              "      <td>NaN</td>\n",
              "      <td>NaN</td>\n",
              "      <td>Hangover of #INDvsPAK2022 is still around. #T2...</td>\n",
              "    </tr>\n",
              "    <tr>\n",
              "      <th>1</th>\n",
              "      <td>['INDvPAK', 'indvspakmatch', 'INDvsPAK2022']</td>\n",
              "      <td>2022-10-24 23:12:50+00:00</td>\n",
              "      <td>24</td>\n",
              "      <td>0</td>\n",
              "      <td>0</td>\n",
              "      <td>0</td>\n",
              "      <td>en</td>\n",
              "      <td>1.584539e+18</td>\n",
              "      <td>https://twitter.com/TheBarmyArmy</td>\n",
              "      <td>@TheBarmyArmy luv it \\n\\n❤️❤️❤️\\n\\n#INDvPAK \\n...</td>\n",
              "    </tr>\n",
              "    <tr>\n",
              "      <th>2</th>\n",
              "      <td>['INDvsPAK2022']</td>\n",
              "      <td>2022-10-24 23:11:57+00:00</td>\n",
              "      <td>56</td>\n",
              "      <td>0</td>\n",
              "      <td>0</td>\n",
              "      <td>0</td>\n",
              "      <td>qht</td>\n",
              "      <td>NaN</td>\n",
              "      <td>NaN</td>\n",
              "      <td>#INDvsPAK2022</td>\n",
              "    </tr>\n",
              "    <tr>\n",
              "      <th>3</th>\n",
              "      <td>['INDvsPAK2022']</td>\n",
              "      <td>2022-10-24 23:11:55+00:00</td>\n",
              "      <td>56</td>\n",
              "      <td>0</td>\n",
              "      <td>0</td>\n",
              "      <td>0</td>\n",
              "      <td>en</td>\n",
              "      <td>NaN</td>\n",
              "      <td>NaN</td>\n",
              "      <td>No ball thi #INDvsPAK2022</td>\n",
              "    </tr>\n",
              "    <tr>\n",
              "      <th>4</th>\n",
              "      <td>['INDvPAK', 'INDvsPAK2022', 'T20Cricket']</td>\n",
              "      <td>2022-10-24 23:02:57+00:00</td>\n",
              "      <td>24</td>\n",
              "      <td>1</td>\n",
              "      <td>0</td>\n",
              "      <td>0</td>\n",
              "      <td>en</td>\n",
              "      <td>1.584460e+18</td>\n",
              "      <td>https://twitter.com/mufaddal_vohra</td>\n",
              "      <td>@mufaddal_vohra @ImRo45 \\n@BCCI \\n\\nWhen will\\...</td>\n",
              "    </tr>\n",
              "  </tbody>\n",
              "</table>\n",
              "</div>\n",
              "      <button class=\"colab-df-convert\" onclick=\"convertToInteractive('df-86106b21-d088-430c-a834-17e2b96d9924')\"\n",
              "              title=\"Convert this dataframe to an interactive table.\"\n",
              "              style=\"display:none;\">\n",
              "        \n",
              "  <svg xmlns=\"http://www.w3.org/2000/svg\" height=\"24px\"viewBox=\"0 0 24 24\"\n",
              "       width=\"24px\">\n",
              "    <path d=\"M0 0h24v24H0V0z\" fill=\"none\"/>\n",
              "    <path d=\"M18.56 5.44l.94 2.06.94-2.06 2.06-.94-2.06-.94-.94-2.06-.94 2.06-2.06.94zm-11 1L8.5 8.5l.94-2.06 2.06-.94-2.06-.94L8.5 2.5l-.94 2.06-2.06.94zm10 10l.94 2.06.94-2.06 2.06-.94-2.06-.94-.94-2.06-.94 2.06-2.06.94z\"/><path d=\"M17.41 7.96l-1.37-1.37c-.4-.4-.92-.59-1.43-.59-.52 0-1.04.2-1.43.59L10.3 9.45l-7.72 7.72c-.78.78-.78 2.05 0 2.83L4 21.41c.39.39.9.59 1.41.59.51 0 1.02-.2 1.41-.59l7.78-7.78 2.81-2.81c.8-.78.8-2.07 0-2.86zM5.41 20L4 18.59l7.72-7.72 1.47 1.35L5.41 20z\"/>\n",
              "  </svg>\n",
              "      </button>\n",
              "      \n",
              "  <style>\n",
              "    .colab-df-container {\n",
              "      display:flex;\n",
              "      flex-wrap:wrap;\n",
              "      gap: 12px;\n",
              "    }\n",
              "\n",
              "    .colab-df-convert {\n",
              "      background-color: #E8F0FE;\n",
              "      border: none;\n",
              "      border-radius: 50%;\n",
              "      cursor: pointer;\n",
              "      display: none;\n",
              "      fill: #1967D2;\n",
              "      height: 32px;\n",
              "      padding: 0 0 0 0;\n",
              "      width: 32px;\n",
              "    }\n",
              "\n",
              "    .colab-df-convert:hover {\n",
              "      background-color: #E2EBFA;\n",
              "      box-shadow: 0px 1px 2px rgba(60, 64, 67, 0.3), 0px 1px 3px 1px rgba(60, 64, 67, 0.15);\n",
              "      fill: #174EA6;\n",
              "    }\n",
              "\n",
              "    [theme=dark] .colab-df-convert {\n",
              "      background-color: #3B4455;\n",
              "      fill: #D2E3FC;\n",
              "    }\n",
              "\n",
              "    [theme=dark] .colab-df-convert:hover {\n",
              "      background-color: #434B5C;\n",
              "      box-shadow: 0px 1px 3px 1px rgba(0, 0, 0, 0.15);\n",
              "      filter: drop-shadow(0px 1px 2px rgba(0, 0, 0, 0.3));\n",
              "      fill: #FFFFFF;\n",
              "    }\n",
              "  </style>\n",
              "\n",
              "      <script>\n",
              "        const buttonEl =\n",
              "          document.querySelector('#df-86106b21-d088-430c-a834-17e2b96d9924 button.colab-df-convert');\n",
              "        buttonEl.style.display =\n",
              "          google.colab.kernel.accessAllowed ? 'block' : 'none';\n",
              "\n",
              "        async function convertToInteractive(key) {\n",
              "          const element = document.querySelector('#df-86106b21-d088-430c-a834-17e2b96d9924');\n",
              "          const dataTable =\n",
              "            await google.colab.kernel.invokeFunction('convertToInteractive',\n",
              "                                                     [key], {});\n",
              "          if (!dataTable) return;\n",
              "\n",
              "          const docLinkHtml = 'Like what you see? Visit the ' +\n",
              "            '<a target=\"_blank\" href=https://colab.research.google.com/notebooks/data_table.ipynb>data table notebook</a>'\n",
              "            + ' to learn more about interactive tables.';\n",
              "          element.innerHTML = '';\n",
              "          dataTable['output_type'] = 'display_data';\n",
              "          await google.colab.output.renderOutput(dataTable, element);\n",
              "          const docLink = document.createElement('div');\n",
              "          docLink.innerHTML = docLinkHtml;\n",
              "          element.appendChild(docLink);\n",
              "        }\n",
              "      </script>\n",
              "    </div>\n",
              "  </div>\n",
              "  "
            ]
          },
          "metadata": {},
          "execution_count": 64
        }
      ]
    },
    {
      "cell_type": "code",
      "source": [
        "m=df['text']\n",
        "m.head()"
      ],
      "metadata": {
        "colab": {
          "base_uri": "https://localhost:8080/"
        },
        "id": "273lWLV81-tb",
        "outputId": "cad9fd03-7d56-4e4d-d6de-a0f961c37a1a"
      },
      "execution_count": null,
      "outputs": [
        {
          "output_type": "execute_result",
          "data": {
            "text/plain": [
              "0    Hangover of #INDvsPAK2022 is still around. #T2...\n",
              "1    @TheBarmyArmy luv it \\n\\n❤️❤️❤️\\n\\n#INDvPAK \\n...\n",
              "2                                        #INDvsPAK2022\n",
              "3                            No ball thi #INDvsPAK2022\n",
              "4    @mufaddal_vohra @ImRo45 \\n@BCCI \\n\\nWhen will\\...\n",
              "Name: text, dtype: object"
            ]
          },
          "metadata": {},
          "execution_count": 65
        }
      ]
    },
    {
      "cell_type": "code",
      "source": [
        "from sklearn.model_selection import train_test_split\n",
        "\n",
        "s_train, s_test, m_train, m_test = train_test_split(s, m, test_size = 0.2, random_state = 0)"
      ],
      "metadata": {
        "id": "rjFxhhVA2Jc0"
      },
      "execution_count": null,
      "outputs": []
    },
    {
      "cell_type": "code",
      "source": [
        "s.head()"
      ],
      "metadata": {
        "colab": {
          "base_uri": "https://localhost:8080/",
          "height": 406
        },
        "id": "aRWxgkIW2TKX",
        "outputId": "4872d561-d2c3-4422-d95b-fe7a278008e4"
      },
      "execution_count": null,
      "outputs": [
        {
          "output_type": "execute_result",
          "data": {
            "text/plain": [
              "                                       hashtags                 created_at  \\\n",
              "0               ['INDvsPAK2022', 'T20WorldCup']  2022-10-24 23:34:23+00:00   \n",
              "1  ['INDvPAK', 'indvspakmatch', 'INDvsPAK2022']  2022-10-24 23:12:50+00:00   \n",
              "2                              ['INDvsPAK2022']  2022-10-24 23:11:57+00:00   \n",
              "3                              ['INDvsPAK2022']  2022-10-24 23:11:55+00:00   \n",
              "4     ['INDvPAK', 'INDvsPAK2022', 'T20Cricket']  2022-10-24 23:02:57+00:00   \n",
              "\n",
              "   user followers count  replycount  retweetcount  quotecount language  \\\n",
              "0                   538           0             0           0       en   \n",
              "1                    24           0             0           0       en   \n",
              "2                    56           0             0           0      qht   \n",
              "3                    56           0             0           0       en   \n",
              "4                    24           1             0           0       en   \n",
              "\n",
              "   inReplyToTweetId                       inReplyToUser  \\\n",
              "0               NaN                                 NaN   \n",
              "1      1.584539e+18    https://twitter.com/TheBarmyArmy   \n",
              "2               NaN                                 NaN   \n",
              "3               NaN                                 NaN   \n",
              "4      1.584460e+18  https://twitter.com/mufaddal_vohra   \n",
              "\n",
              "                                      mentionedUsers  \n",
              "0  Hangover of #INDvsPAK2022 is still around. #T2...  \n",
              "1  @TheBarmyArmy luv it \\n\\n❤️❤️❤️\\n\\n#INDvPAK \\n...  \n",
              "2                                      #INDvsPAK2022  \n",
              "3                          No ball thi #INDvsPAK2022  \n",
              "4  @mufaddal_vohra @ImRo45 \\n@BCCI \\n\\nWhen will\\...  "
            ],
            "text/html": [
              "\n",
              "  <div id=\"df-03c72815-67f9-4199-bbc0-bd2ccfbf0424\">\n",
              "    <div class=\"colab-df-container\">\n",
              "      <div>\n",
              "<style scoped>\n",
              "    .dataframe tbody tr th:only-of-type {\n",
              "        vertical-align: middle;\n",
              "    }\n",
              "\n",
              "    .dataframe tbody tr th {\n",
              "        vertical-align: top;\n",
              "    }\n",
              "\n",
              "    .dataframe thead th {\n",
              "        text-align: right;\n",
              "    }\n",
              "</style>\n",
              "<table border=\"1\" class=\"dataframe\">\n",
              "  <thead>\n",
              "    <tr style=\"text-align: right;\">\n",
              "      <th></th>\n",
              "      <th>hashtags</th>\n",
              "      <th>created_at</th>\n",
              "      <th>user followers count</th>\n",
              "      <th>replycount</th>\n",
              "      <th>retweetcount</th>\n",
              "      <th>quotecount</th>\n",
              "      <th>language</th>\n",
              "      <th>inReplyToTweetId</th>\n",
              "      <th>inReplyToUser</th>\n",
              "      <th>mentionedUsers</th>\n",
              "    </tr>\n",
              "  </thead>\n",
              "  <tbody>\n",
              "    <tr>\n",
              "      <th>0</th>\n",
              "      <td>['INDvsPAK2022', 'T20WorldCup']</td>\n",
              "      <td>2022-10-24 23:34:23+00:00</td>\n",
              "      <td>538</td>\n",
              "      <td>0</td>\n",
              "      <td>0</td>\n",
              "      <td>0</td>\n",
              "      <td>en</td>\n",
              "      <td>NaN</td>\n",
              "      <td>NaN</td>\n",
              "      <td>Hangover of #INDvsPAK2022 is still around. #T2...</td>\n",
              "    </tr>\n",
              "    <tr>\n",
              "      <th>1</th>\n",
              "      <td>['INDvPAK', 'indvspakmatch', 'INDvsPAK2022']</td>\n",
              "      <td>2022-10-24 23:12:50+00:00</td>\n",
              "      <td>24</td>\n",
              "      <td>0</td>\n",
              "      <td>0</td>\n",
              "      <td>0</td>\n",
              "      <td>en</td>\n",
              "      <td>1.584539e+18</td>\n",
              "      <td>https://twitter.com/TheBarmyArmy</td>\n",
              "      <td>@TheBarmyArmy luv it \\n\\n❤️❤️❤️\\n\\n#INDvPAK \\n...</td>\n",
              "    </tr>\n",
              "    <tr>\n",
              "      <th>2</th>\n",
              "      <td>['INDvsPAK2022']</td>\n",
              "      <td>2022-10-24 23:11:57+00:00</td>\n",
              "      <td>56</td>\n",
              "      <td>0</td>\n",
              "      <td>0</td>\n",
              "      <td>0</td>\n",
              "      <td>qht</td>\n",
              "      <td>NaN</td>\n",
              "      <td>NaN</td>\n",
              "      <td>#INDvsPAK2022</td>\n",
              "    </tr>\n",
              "    <tr>\n",
              "      <th>3</th>\n",
              "      <td>['INDvsPAK2022']</td>\n",
              "      <td>2022-10-24 23:11:55+00:00</td>\n",
              "      <td>56</td>\n",
              "      <td>0</td>\n",
              "      <td>0</td>\n",
              "      <td>0</td>\n",
              "      <td>en</td>\n",
              "      <td>NaN</td>\n",
              "      <td>NaN</td>\n",
              "      <td>No ball thi #INDvsPAK2022</td>\n",
              "    </tr>\n",
              "    <tr>\n",
              "      <th>4</th>\n",
              "      <td>['INDvPAK', 'INDvsPAK2022', 'T20Cricket']</td>\n",
              "      <td>2022-10-24 23:02:57+00:00</td>\n",
              "      <td>24</td>\n",
              "      <td>1</td>\n",
              "      <td>0</td>\n",
              "      <td>0</td>\n",
              "      <td>en</td>\n",
              "      <td>1.584460e+18</td>\n",
              "      <td>https://twitter.com/mufaddal_vohra</td>\n",
              "      <td>@mufaddal_vohra @ImRo45 \\n@BCCI \\n\\nWhen will\\...</td>\n",
              "    </tr>\n",
              "  </tbody>\n",
              "</table>\n",
              "</div>\n",
              "      <button class=\"colab-df-convert\" onclick=\"convertToInteractive('df-03c72815-67f9-4199-bbc0-bd2ccfbf0424')\"\n",
              "              title=\"Convert this dataframe to an interactive table.\"\n",
              "              style=\"display:none;\">\n",
              "        \n",
              "  <svg xmlns=\"http://www.w3.org/2000/svg\" height=\"24px\"viewBox=\"0 0 24 24\"\n",
              "       width=\"24px\">\n",
              "    <path d=\"M0 0h24v24H0V0z\" fill=\"none\"/>\n",
              "    <path d=\"M18.56 5.44l.94 2.06.94-2.06 2.06-.94-2.06-.94-.94-2.06-.94 2.06-2.06.94zm-11 1L8.5 8.5l.94-2.06 2.06-.94-2.06-.94L8.5 2.5l-.94 2.06-2.06.94zm10 10l.94 2.06.94-2.06 2.06-.94-2.06-.94-.94-2.06-.94 2.06-2.06.94z\"/><path d=\"M17.41 7.96l-1.37-1.37c-.4-.4-.92-.59-1.43-.59-.52 0-1.04.2-1.43.59L10.3 9.45l-7.72 7.72c-.78.78-.78 2.05 0 2.83L4 21.41c.39.39.9.59 1.41.59.51 0 1.02-.2 1.41-.59l7.78-7.78 2.81-2.81c.8-.78.8-2.07 0-2.86zM5.41 20L4 18.59l7.72-7.72 1.47 1.35L5.41 20z\"/>\n",
              "  </svg>\n",
              "      </button>\n",
              "      \n",
              "  <style>\n",
              "    .colab-df-container {\n",
              "      display:flex;\n",
              "      flex-wrap:wrap;\n",
              "      gap: 12px;\n",
              "    }\n",
              "\n",
              "    .colab-df-convert {\n",
              "      background-color: #E8F0FE;\n",
              "      border: none;\n",
              "      border-radius: 50%;\n",
              "      cursor: pointer;\n",
              "      display: none;\n",
              "      fill: #1967D2;\n",
              "      height: 32px;\n",
              "      padding: 0 0 0 0;\n",
              "      width: 32px;\n",
              "    }\n",
              "\n",
              "    .colab-df-convert:hover {\n",
              "      background-color: #E2EBFA;\n",
              "      box-shadow: 0px 1px 2px rgba(60, 64, 67, 0.3), 0px 1px 3px 1px rgba(60, 64, 67, 0.15);\n",
              "      fill: #174EA6;\n",
              "    }\n",
              "\n",
              "    [theme=dark] .colab-df-convert {\n",
              "      background-color: #3B4455;\n",
              "      fill: #D2E3FC;\n",
              "    }\n",
              "\n",
              "    [theme=dark] .colab-df-convert:hover {\n",
              "      background-color: #434B5C;\n",
              "      box-shadow: 0px 1px 3px 1px rgba(0, 0, 0, 0.15);\n",
              "      filter: drop-shadow(0px 1px 2px rgba(0, 0, 0, 0.3));\n",
              "      fill: #FFFFFF;\n",
              "    }\n",
              "  </style>\n",
              "\n",
              "      <script>\n",
              "        const buttonEl =\n",
              "          document.querySelector('#df-03c72815-67f9-4199-bbc0-bd2ccfbf0424 button.colab-df-convert');\n",
              "        buttonEl.style.display =\n",
              "          google.colab.kernel.accessAllowed ? 'block' : 'none';\n",
              "\n",
              "        async function convertToInteractive(key) {\n",
              "          const element = document.querySelector('#df-03c72815-67f9-4199-bbc0-bd2ccfbf0424');\n",
              "          const dataTable =\n",
              "            await google.colab.kernel.invokeFunction('convertToInteractive',\n",
              "                                                     [key], {});\n",
              "          if (!dataTable) return;\n",
              "\n",
              "          const docLinkHtml = 'Like what you see? Visit the ' +\n",
              "            '<a target=\"_blank\" href=https://colab.research.google.com/notebooks/data_table.ipynb>data table notebook</a>'\n",
              "            + ' to learn more about interactive tables.';\n",
              "          element.innerHTML = '';\n",
              "          dataTable['output_type'] = 'display_data';\n",
              "          await google.colab.output.renderOutput(dataTable, element);\n",
              "          const docLink = document.createElement('div');\n",
              "          docLink.innerHTML = docLinkHtml;\n",
              "          element.appendChild(docLink);\n",
              "        }\n",
              "      </script>\n",
              "    </div>\n",
              "  </div>\n",
              "  "
            ]
          },
          "metadata": {},
          "execution_count": 67
        }
      ]
    },
    {
      "cell_type": "markdown",
      "source": [
        "Frequency distribution"
      ],
      "metadata": {
        "id": "-R9P7IS72uYy"
      }
    },
    {
      "cell_type": "code",
      "source": [
        "for var in df.columns:\n",
        "    \n",
        "    print(df[var].value_counts())"
      ],
      "metadata": {
        "colab": {
          "base_uri": "https://localhost:8080/"
        },
        "id": "GzGgthbd2mLf",
        "outputId": "511359a2-2e6f-46e2-cc10-8081c52e3dd7"
      },
      "execution_count": null,
      "outputs": [
        {
          "output_type": "stream",
          "name": "stdout",
          "text": [
            "1584689793698791424    1\n",
            "1584535862473555978    1\n",
            "1584536127369015296    1\n",
            "1584536114735370241    1\n",
            "1584536105189199873    1\n",
            "                      ..\n",
            "1584109655499808768    1\n",
            "1584109654111444992    1\n",
            "1584109653339693058    1\n",
            "1584109652668653569    1\n",
            "1584171713948180482    1\n",
            "Name: id, Length: 272270, dtype: int64\n",
            "@narendramodi @imVkohli ભારત માતા કી જય 🇮🇳                                                 547\n",
            "@imVkohli Happy diwali                                                                     339\n",
            "@imVkohli Happy Diwali                                                                     290\n",
            "#INDvPAK                                                                                   249\n",
            "@imVkohli Congratulations                                                                  226\n",
            "                                                                                          ... \n",
            "@stufflistings Q1. INDIA\\n\\n#INDvPAK \\n#iQOOGameOfFones \\n#INDvPAK \\n#stufflistingsarmy      1\n",
            "@AvinashArya09 #Ashwin the Cetified Liar 🙏\\n\\n#T20WorldCup   \\n#INDvPAK\\n#arshdeepsingh      1\n",
            "You cost us a wicket with your shitful spidercam @MCG @ICC 🤬 #INDvPAK                        1\n",
            "Fuck off spider cam!!!!#INDvPAK                                                              1\n",
            "@imVkohli Thank you kingggg 🙌🏼💙                                                              1\n",
            "Name: text, Length: 260884, dtype: int64\n",
            "PakCricket69       944\n",
            "ESPNcricinfo       304\n",
            "T20_WorldCup_      295\n",
            "PoppingCreaseSA    248\n",
            "619Sniper619Bot    239\n",
            "                  ... \n",
            "KaviSudeepBhola      1\n",
            "Heramb1234           1\n",
            "abie79               1\n",
            "inmyownwrldrn        1\n",
            "Kartikagarwal0       1\n",
            "Name: username, Length: 143879, dtype: int64\n",
            "['INDvPAK']                                             37173\n",
            "['INDvsPAK2022']                                        12423\n",
            "['T20WorldCup']                                         12393\n",
            "['INDvPAK', 'T20WorldCup']                               3397\n",
            "['iQOOGameOfFones', 'INDvPAK', 'stufflistingsarmy']      3257\n",
            "                                                        ...  \n",
            "['HappyDiwali2022', 'INDvPAK', 'indvspakmatch']             1\n",
            "['GOAT𓃵', 'kungfupandya', 'INDvPAK']                        1\n",
            "['ViratKohli𓃵', 'TeamIndia', 'INDvPAK', 'indiawins']        1\n",
            "['moneymatters', 'INDvPAK']                                 1\n",
            "['GOAT', 'Kingkohli', 'Kingisalwaysaking']                  1\n",
            "Name: hashtags, Length: 38889, dtype: int64\n",
            "2022-10-23 11:56:34+00:00    83\n",
            "2022-10-23 11:55:39+00:00    82\n",
            "2022-10-23 11:56:32+00:00    80\n",
            "2022-10-23 11:55:51+00:00    76\n",
            "2022-10-23 11:55:49+00:00    75\n",
            "                             ..\n",
            "2022-10-21 08:15:49+00:00     1\n",
            "2022-10-21 08:15:05+00:00     1\n",
            "2022-10-21 08:14:58+00:00     1\n",
            "2022-10-21 08:14:52+00:00     1\n",
            "2022-10-22 08:20:41+00:00     1\n",
            "Name: created_at, Length: 105548, dtype: int64\n",
            "0          14654\n",
            "1           9156\n",
            "2           6452\n",
            "3           5187\n",
            "4           4271\n",
            "           ...  \n",
            "16266          1\n",
            "7141           1\n",
            "351938         1\n",
            "2881032        1\n",
            "65229          1\n",
            "Name: user followers count, Length: 10341, dtype: int64\n",
            "0       238963\n",
            "1        23657\n",
            "2         4237\n",
            "3         1648\n",
            "4          860\n",
            "         ...  \n",
            "191          1\n",
            "328          1\n",
            "505          1\n",
            "796          1\n",
            "2970         1\n",
            "Name: replycount, Length: 260, dtype: int64\n",
            "0       249821\n",
            "1        13183\n",
            "2         2998\n",
            "3         1363\n",
            "4          819\n",
            "         ...  \n",
            "3170         1\n",
            "1010         1\n",
            "1127         1\n",
            "1496         1\n",
            "297          1\n",
            "Name: retweetcount, Length: 427, dtype: int64\n",
            "0       168631\n",
            "1        52042\n",
            "2        18367\n",
            "3         8718\n",
            "4         4890\n",
            "         ...  \n",
            "2701         1\n",
            "2504         1\n",
            "2575         1\n",
            "426          1\n",
            "574          1\n",
            "Name: likecount, Length: 1358, dtype: int64\n",
            "0      266106\n",
            "1        4674\n",
            "2         551\n",
            "3         250\n",
            "4         146\n",
            "        ...  \n",
            "125         1\n",
            "129         1\n",
            "36          1\n",
            "94          1\n",
            "859         1\n",
            "Name: quotecount, Length: 109, dtype: int64\n",
            "en     181620\n",
            "hi      28084\n",
            "in      12856\n",
            "und     12835\n",
            "tl       9960\n",
            "et       8154\n",
            "ur       2214\n",
            "pt       1699\n",
            "ht       1679\n",
            "de       1140\n",
            "qht      1028\n",
            "qme       918\n",
            "qam       908\n",
            "gu        732\n",
            "mr        670\n",
            "es        663\n",
            "da        653\n",
            "nl        612\n",
            "ta        559\n",
            "fr        493\n",
            "fi        446\n",
            "si        394\n",
            "kn        315\n",
            "sv        285\n",
            "pl        275\n",
            "cs        266\n",
            "tr        222\n",
            "eu        221\n",
            "te        214\n",
            "no        200\n",
            "it        199\n",
            "hu        181\n",
            "cy        177\n",
            "ne        175\n",
            "lv        153\n",
            "lt        134\n",
            "ml        134\n",
            "sl        113\n",
            "ro        111\n",
            "ca        102\n",
            "fa         89\n",
            "bn         89\n",
            "is         66\n",
            "pa         48\n",
            "ps         44\n",
            "ar         43\n",
            "vi         40\n",
            "or         32\n",
            "sd         13\n",
            "ja          7\n",
            "ko          2\n",
            "zh          1\n",
            "iw          1\n",
            "uk          1\n",
            "Name: language, dtype: int64\n",
            "Series([], Name: quotedtweet, dtype: int64)\n",
            "1.584170e+18    24098\n",
            "1.584422e+18    11122\n",
            "1.584182e+18     3270\n",
            "1.584190e+18     2019\n",
            "1.584233e+18     1913\n",
            "                ...  \n",
            "1.584636e+18        1\n",
            "1.584489e+18        1\n",
            "1.584516e+18        1\n",
            "1.584576e+18        1\n",
            "1.584171e+18        1\n",
            "Name: inReplyToTweetId, Length: 23670, dtype: int64\n",
            "https://twitter.com/imVkohli          35622\n",
            "https://twitter.com/stufflistings      6071\n",
            "https://twitter.com/IqooInd            4767\n",
            "https://twitter.com/klrahul            3296\n",
            "https://twitter.com/iamsrk             2019\n",
            "                                      ...  \n",
            "https://twitter.com/madhurrrrr3           1\n",
            "https://twitter.com/AgastyaAravind        1\n",
            "https://twitter.com/Abid_Shaw             1\n",
            "https://twitter.com/akaash_pratap         1\n",
            "https://twitter.com/bat11dontbowl         1\n",
            "Name: inReplyToUser, Length: 14185, dtype: int64\n",
            "@narendramodi @imVkohli ભારત માતા કી જય 🇮🇳                                                 547\n",
            "@imVkohli Happy diwali                                                                     339\n",
            "@imVkohli Happy Diwali                                                                     290\n",
            "#INDvPAK                                                                                   249\n",
            "@imVkohli Congratulations                                                                  226\n",
            "                                                                                          ... \n",
            "@stufflistings Q1. INDIA\\n\\n#INDvPAK \\n#iQOOGameOfFones \\n#INDvPAK \\n#stufflistingsarmy      1\n",
            "@AvinashArya09 #Ashwin the Cetified Liar 🙏\\n\\n#T20WorldCup   \\n#INDvPAK\\n#arshdeepsingh      1\n",
            "You cost us a wicket with your shitful spidercam @MCG @ICC 🤬 #INDvPAK                        1\n",
            "Fuck off spider cam!!!!#INDvPAK                                                              1\n",
            "@imVkohli Thank you kingggg 🙌🏼💙                                                              1\n",
            "Name: mentionedUsers, Length: 260884, dtype: int64\n"
          ]
        }
      ]
    },
    {
      "cell_type": "code",
      "source": [
        "print(round(df.describe(),2))\n"
      ],
      "metadata": {
        "colab": {
          "base_uri": "https://localhost:8080/"
        },
        "id": "L8YvrOFU3C6E",
        "outputId": "92658360-826c-446a-ee57-8c91d17ba580"
      },
      "execution_count": null,
      "outputs": [
        {
          "output_type": "stream",
          "name": "stdout",
          "text": [
            "                 id  user followers count  replycount  retweetcount  \\\n",
            "count  2.722700e+05             272270.00   272270.00     272270.00   \n",
            "mean   1.584127e+18              21092.85        0.75          1.97   \n",
            "std    3.356743e+14             413176.24       41.14        135.14   \n",
            "min    1.582161e+18                  0.00        0.00          0.00   \n",
            "25%    1.584112e+18                 15.00        0.00          0.00   \n",
            "50%    1.584155e+18                102.00        0.00          0.00   \n",
            "75%    1.584226e+18                581.00        0.00          0.00   \n",
            "max    1.584696e+18           83700349.00    15795.00      39055.00   \n",
            "\n",
            "       likecount  quotecount  quotedtweet  inReplyToTweetId  \n",
            "count  272270.00   272270.00          0.0      1.132430e+05  \n",
            "mean       24.31        0.10          NaN      1.583661e+18  \n",
            "std      1465.39        4.87          NaN      1.513379e+16  \n",
            "min         0.00        0.00          NaN      4.470185e+17  \n",
            "25%         0.00        0.00          NaN      1.584156e+18  \n",
            "50%         0.00        0.00          NaN      1.584170e+18  \n",
            "75%         1.00        0.00          NaN      1.584226e+18  \n",
            "max    474130.00     1356.00          NaN      1.584676e+18  \n"
          ]
        }
      ]
    },
    {
      "cell_type": "markdown",
      "source": [
        "####Data visualization"
      ],
      "metadata": {
        "id": "yzt9Cwi63Q-x"
      }
    },
    {
      "cell_type": "code",
      "source": [
        "import seaborn as sns"
      ],
      "metadata": {
        "id": "XWdbUFcn3hQI"
      },
      "execution_count": null,
      "outputs": []
    },
    {
      "cell_type": "code",
      "source": [
        "sns.scatterplot(x=df.quotecount,y=df.likecount)"
      ],
      "metadata": {
        "colab": {
          "base_uri": "https://localhost:8080/",
          "height": 302
        },
        "id": "MnAGNkaL3md_",
        "outputId": "39698134-2826-404a-fc7f-f5df4428114d"
      },
      "execution_count": null,
      "outputs": [
        {
          "output_type": "execute_result",
          "data": {
            "text/plain": [
              "<matplotlib.axes._subplots.AxesSubplot at 0x7f0330dc56d0>"
            ]
          },
          "metadata": {},
          "execution_count": 71
        },
        {
          "output_type": "display_data",
          "data": {
            "text/plain": [
              "<Figure size 432x288 with 1 Axes>"
            ],
            "image/png": "[encoded data removed]"
          },
          "metadata": {}
        }
      ]
    },
    {
      "cell_type": "code",
      "source": [
        "sns.barplot(x=df.replycount,y=df.likecount)"
      ],
      "metadata": {
        "colab": {
          "base_uri": "https://localhost:8080/",
          "height": 302
        },
        "id": "2Dc9axbc36HI",
        "outputId": "51479542-4834-4313-dfd4-d45344af2e1d"
      },
      "execution_count": null,
      "outputs": [
        {
          "output_type": "execute_result",
          "data": {
            "text/plain": [
              "<matplotlib.axes._subplots.AxesSubplot at 0x7f0338802150>"
            ]
          },
          "metadata": {},
          "execution_count": 72
        },
        {
          "output_type": "display_data",
          "data": {
            "text/plain": [
              "<Figure size 432x288 with 1 Axes>"
            ],
            "image/png": "[encoded data removed]"
          },
          "metadata": {}
        }
      ]
    },
    {
      "cell_type": "code",
      "source": [
        "import seaborn as sns\n",
        "import matplotlib.pyplot as plt"
      ],
      "metadata": {
        "id": "wJ0xwxS84JxJ"
      },
      "execution_count": null,
      "outputs": []
    },
    {
      "cell_type": "code",
      "source": [
        "df.plot(x='likecount',y='quotecount',kind='hist')\n"
      ],
      "metadata": {
        "colab": {
          "base_uri": "https://localhost:8080/",
          "height": 285
        },
        "id": "kuxHh08v4S8S",
        "outputId": "7abc1073-edcd-4615-cf83-8d80f72ef13b"
      },
      "execution_count": null,
      "outputs": [
        {
          "output_type": "execute_result",
          "data": {
            "text/plain": [
              "<matplotlib.axes._subplots.AxesSubplot at 0x7f0330e3bad0>"
            ]
          },
          "metadata": {},
          "execution_count": 74
        },
        {
          "output_type": "display_data",
          "data": {
            "text/plain": [
              "<Figure size 432x288 with 1 Axes>"
            ],
            "image/png": "[encoded data removed]"
          },
          "metadata": {}
        }
      ]
    },
    {
      "cell_type": "code",
      "source": [
        "s_train.head()"
      ],
      "metadata": {
        "colab": {
          "base_uri": "https://localhost:8080/",
          "height": 406
        },
        "id": "Ea5NuhL54ZEl",
        "outputId": "a15f8bb0-77ad-4469-bf85-cd582142cfbe"
      },
      "execution_count": null,
      "outputs": [
        {
          "output_type": "execute_result",
          "data": {
            "text/plain": [
              "                                                 hashtags  \\\n",
              "193625                                                NaN   \n",
              "60755                                         ['INDvPAK']   \n",
              "188256                                                NaN   \n",
              "43165   ['RahitSharma', 'arshdeepsingh', 'tolerantindi...   \n",
              "271335                                                NaN   \n",
              "\n",
              "                       created_at  user followers count  replycount  \\\n",
              "193625  2022-10-24 07:35:18+00:00                    60           0   \n",
              "60755   2022-10-23 11:55:37+00:00                    36           0   \n",
              "188256  2022-10-24 09:23:50+00:00                  2703           0   \n",
              "43165   2022-10-23 13:54:10+00:00                   644           0   \n",
              "271335  2022-10-23 13:17:36+00:00                   529           1   \n",
              "\n",
              "        retweetcount  quotecount language  inReplyToTweetId  \\\n",
              "193625             0           0       es      1.584445e+18   \n",
              "60755              0           0       in               NaN   \n",
              "188256             0           0       en      1.584474e+18   \n",
              "43165              0           0       en               NaN   \n",
              "271335             0           0       en      1.584156e+18   \n",
              "\n",
              "                        inReplyToUser  \\\n",
              "193625  https://twitter.com/rootlucky   \n",
              "60755                             NaN   \n",
              "188256  https://twitter.com/hazharoon   \n",
              "43165                             NaN   \n",
              "271335  https://twitter.com/WahabViki   \n",
              "\n",
              "                                           mentionedUsers  \n",
              "193625                   @FirozKhan2002 @imVkohli *campar  \n",
              "60755            #INDvPAK\\nVirat is class baki sab bakwas  \n",
              "188256  @hazharoon Do not exaggerate it please. @imVko...  \n",
              "43165   Sack #RahitSharma He is not a smart Captain; W...  \n",
              "271335     @WahabViki @imVkohli We don’t want such a name  "
            ],
            "text/html": [
              "\n",
              "  <div id=\"df-045c3bb6-4bcf-428e-8898-7718d6b1bf0e\">\n",
              "    <div class=\"colab-df-container\">\n",
              "      <div>\n",
              "<style scoped>\n",
              "    .dataframe tbody tr th:only-of-type {\n",
              "        vertical-align: middle;\n",
              "    }\n",
              "\n",
              "    .dataframe tbody tr th {\n",
              "        vertical-align: top;\n",
              "    }\n",
              "\n",
              "    .dataframe thead th {\n",
              "        text-align: right;\n",
              "    }\n",
              "</style>\n",
              "<table border=\"1\" class=\"dataframe\">\n",
              "  <thead>\n",
              "    <tr style=\"text-align: right;\">\n",
              "      <th></th>\n",
              "      <th>hashtags</th>\n",
              "      <th>created_at</th>\n",
              "      <th>user followers count</th>\n",
              "      <th>replycount</th>\n",
              "      <th>retweetcount</th>\n",
              "      <th>quotecount</th>\n",
              "      <th>language</th>\n",
              "      <th>inReplyToTweetId</th>\n",
              "      <th>inReplyToUser</th>\n",
              "      <th>mentionedUsers</th>\n",
              "    </tr>\n",
              "  </thead>\n",
              "  <tbody>\n",
              "    <tr>\n",
              "      <th>193625</th>\n",
              "      <td>NaN</td>\n",
              "      <td>2022-10-24 07:35:18+00:00</td>\n",
              "      <td>60</td>\n",
              "      <td>0</td>\n",
              "      <td>0</td>\n",
              "      <td>0</td>\n",
              "      <td>es</td>\n",
              "      <td>1.584445e+18</td>\n",
              "      <td>https://twitter.com/rootlucky</td>\n",
              "      <td>@FirozKhan2002 @imVkohli *campar</td>\n",
              "    </tr>\n",
              "    <tr>\n",
              "      <th>60755</th>\n",
              "      <td>['INDvPAK']</td>\n",
              "      <td>2022-10-23 11:55:37+00:00</td>\n",
              "      <td>36</td>\n",
              "      <td>0</td>\n",
              "      <td>0</td>\n",
              "      <td>0</td>\n",
              "      <td>in</td>\n",
              "      <td>NaN</td>\n",
              "      <td>NaN</td>\n",
              "      <td>#INDvPAK\\nVirat is class baki sab bakwas</td>\n",
              "    </tr>\n",
              "    <tr>\n",
              "      <th>188256</th>\n",
              "      <td>NaN</td>\n",
              "      <td>2022-10-24 09:23:50+00:00</td>\n",
              "      <td>2703</td>\n",
              "      <td>0</td>\n",
              "      <td>0</td>\n",
              "      <td>0</td>\n",
              "      <td>en</td>\n",
              "      <td>1.584474e+18</td>\n",
              "      <td>https://twitter.com/hazharoon</td>\n",
              "      <td>@hazharoon Do not exaggerate it please. @imVko...</td>\n",
              "    </tr>\n",
              "    <tr>\n",
              "      <th>43165</th>\n",
              "      <td>['RahitSharma', 'arshdeepsingh', 'tolerantindi...</td>\n",
              "      <td>2022-10-23 13:54:10+00:00</td>\n",
              "      <td>644</td>\n",
              "      <td>0</td>\n",
              "      <td>0</td>\n",
              "      <td>0</td>\n",
              "      <td>en</td>\n",
              "      <td>NaN</td>\n",
              "      <td>NaN</td>\n",
              "      <td>Sack #RahitSharma He is not a smart Captain; W...</td>\n",
              "    </tr>\n",
              "    <tr>\n",
              "      <th>271335</th>\n",
              "      <td>NaN</td>\n",
              "      <td>2022-10-23 13:17:36+00:00</td>\n",
              "      <td>529</td>\n",
              "      <td>1</td>\n",
              "      <td>0</td>\n",
              "      <td>0</td>\n",
              "      <td>en</td>\n",
              "      <td>1.584156e+18</td>\n",
              "      <td>https://twitter.com/WahabViki</td>\n",
              "      <td>@WahabViki @imVkohli We don’t want such a name</td>\n",
              "    </tr>\n",
              "  </tbody>\n",
              "</table>\n",
              "</div>\n",
              "      <button class=\"colab-df-convert\" onclick=\"convertToInteractive('df-045c3bb6-4bcf-428e-8898-7718d6b1bf0e')\"\n",
              "              title=\"Convert this dataframe to an interactive table.\"\n",
              "              style=\"display:none;\">\n",
              "        \n",
              "  <svg xmlns=\"http://www.w3.org/2000/svg\" height=\"24px\"viewBox=\"0 0 24 24\"\n",
              "       width=\"24px\">\n",
              "    <path d=\"M0 0h24v24H0V0z\" fill=\"none\"/>\n",
              "    <path d=\"M18.56 5.44l.94 2.06.94-2.06 2.06-.94-2.06-.94-.94-2.06-.94 2.06-2.06.94zm-11 1L8.5 8.5l.94-2.06 2.06-.94-2.06-.94L8.5 2.5l-.94 2.06-2.06.94zm10 10l.94 2.06.94-2.06 2.06-.94-2.06-.94-.94-2.06-.94 2.06-2.06.94z\"/><path d=\"M17.41 7.96l-1.37-1.37c-.4-.4-.92-.59-1.43-.59-.52 0-1.04.2-1.43.59L10.3 9.45l-7.72 7.72c-.78.78-.78 2.05 0 2.83L4 21.41c.39.39.9.59 1.41.59.51 0 1.02-.2 1.41-.59l7.78-7.78 2.81-2.81c.8-.78.8-2.07 0-2.86zM5.41 20L4 18.59l7.72-7.72 1.47 1.35L5.41 20z\"/>\n",
              "  </svg>\n",
              "      </button>\n",
              "      \n",
              "  <style>\n",
              "    .colab-df-container {\n",
              "      display:flex;\n",
              "      flex-wrap:wrap;\n",
              "      gap: 12px;\n",
              "    }\n",
              "\n",
              "    .colab-df-convert {\n",
              "      background-color: #E8F0FE;\n",
              "      border: none;\n",
              "      border-radius: 50%;\n",
              "      cursor: pointer;\n",
              "      display: none;\n",
              "      fill: #1967D2;\n",
              "      height: 32px;\n",
              "      padding: 0 0 0 0;\n",
              "      width: 32px;\n",
              "    }\n",
              "\n",
              "    .colab-df-convert:hover {\n",
              "      background-color: #E2EBFA;\n",
              "      box-shadow: 0px 1px 2px rgba(60, 64, 67, 0.3), 0px 1px 3px 1px rgba(60, 64, 67, 0.15);\n",
              "      fill: #174EA6;\n",
              "    }\n",
              "\n",
              "    [theme=dark] .colab-df-convert {\n",
              "      background-color: #3B4455;\n",
              "      fill: #D2E3FC;\n",
              "    }\n",
              "\n",
              "    [theme=dark] .colab-df-convert:hover {\n",
              "      background-color: #434B5C;\n",
              "      box-shadow: 0px 1px 3px 1px rgba(0, 0, 0, 0.15);\n",
              "      filter: drop-shadow(0px 1px 2px rgba(0, 0, 0, 0.3));\n",
              "      fill: #FFFFFF;\n",
              "    }\n",
              "  </style>\n",
              "\n",
              "      <script>\n",
              "        const buttonEl =\n",
              "          document.querySelector('#df-045c3bb6-4bcf-428e-8898-7718d6b1bf0e button.colab-df-convert');\n",
              "        buttonEl.style.display =\n",
              "          google.colab.kernel.accessAllowed ? 'block' : 'none';\n",
              "\n",
              "        async function convertToInteractive(key) {\n",
              "          const element = document.querySelector('#df-045c3bb6-4bcf-428e-8898-7718d6b1bf0e');\n",
              "          const dataTable =\n",
              "            await google.colab.kernel.invokeFunction('convertToInteractive',\n",
              "                                                     [key], {});\n",
              "          if (!dataTable) return;\n",
              "\n",
              "          const docLinkHtml = 'Like what you see? Visit the ' +\n",
              "            '<a target=\"_blank\" href=https://colab.research.google.com/notebooks/data_table.ipynb>data table notebook</a>'\n",
              "            + ' to learn more about interactive tables.';\n",
              "          element.innerHTML = '';\n",
              "          dataTable['output_type'] = 'display_data';\n",
              "          await google.colab.output.renderOutput(dataTable, element);\n",
              "          const docLink = document.createElement('div');\n",
              "          docLink.innerHTML = docLinkHtml;\n",
              "          element.appendChild(docLink);\n",
              "        }\n",
              "      </script>\n",
              "    </div>\n",
              "  </div>\n",
              "  "
            ]
          },
          "metadata": {},
          "execution_count": 75
        }
      ]
    },
    {
      "cell_type": "code",
      "source": [
        "m=df['text']\n",
        "m.head()"
      ],
      "metadata": {
        "colab": {
          "base_uri": "https://localhost:8080/"
        },
        "id": "0Yng6JqW4lwi",
        "outputId": "ca49ba69-c481-4bfd-eab4-61aed5ac6607"
      },
      "execution_count": null,
      "outputs": [
        {
          "output_type": "execute_result",
          "data": {
            "text/plain": [
              "0    Hangover of #INDvsPAK2022 is still around. #T2...\n",
              "1    @TheBarmyArmy luv it \\n\\n❤️❤️❤️\\n\\n#INDvPAK \\n...\n",
              "2                                        #INDvsPAK2022\n",
              "3                            No ball thi #INDvsPAK2022\n",
              "4    @mufaddal_vohra @ImRo45 \\n@BCCI \\n\\nWhen will\\...\n",
              "Name: text, dtype: object"
            ]
          },
          "metadata": {},
          "execution_count": 76
        }
      ]
    },
    {
      "cell_type": "code",
      "execution_count": null,
      "metadata": {
        "colab": {
          "base_uri": "https://localhost:8080/",
          "height": 496
        },
        "id": "tvUr8CFwyZKd",
        "outputId": "9afbf1ff-aea4-4145-999e-408bf7c4dd23"
      },
      "outputs": [
        {
          "output_type": "execute_result",
          "data": {
            "text/plain": [
              "                    id         username  \\\n",
              "0  1584689793698791424    drivesnflicks   \n",
              "1  1584684371512291330  Krishna59638949   \n",
              "2  1584684147339296768      kingbabar__   \n",
              "3  1584684139839905792      kingbabar__   \n",
              "4  1584681884210319360  Krishna59638949   \n",
              "\n",
              "                                       hashtags                 created_at  \\\n",
              "0               ['INDvsPAK2022', 'T20WorldCup']  2022-10-24 23:34:23+00:00   \n",
              "1  ['INDvPAK', 'indvspakmatch', 'INDvsPAK2022']  2022-10-24 23:12:50+00:00   \n",
              "2                              ['INDvsPAK2022']  2022-10-24 23:11:57+00:00   \n",
              "3                              ['INDvsPAK2022']  2022-10-24 23:11:55+00:00   \n",
              "4     ['INDvPAK', 'INDvsPAK2022', 'T20Cricket']  2022-10-24 23:02:57+00:00   \n",
              "\n",
              "   user followers count  replycount  retweetcount  likecount  quotecount  \\\n",
              "0                   538           0             0          6           0   \n",
              "1                    24           0             0          0           0   \n",
              "2                    56           0             0          0           0   \n",
              "3                    56           0             0          0           0   \n",
              "4                    24           1             0          0           0   \n",
              "\n",
              "  language  quotedtweet  inReplyToTweetId                       inReplyToUser  \\\n",
              "0       en          NaN               NaN                                 NaN   \n",
              "1       en          NaN      1.584539e+18    https://twitter.com/TheBarmyArmy   \n",
              "2      qht          NaN               NaN                                 NaN   \n",
              "3       en          NaN               NaN                                 NaN   \n",
              "4       en          NaN      1.584460e+18  https://twitter.com/mufaddal_vohra   \n",
              "\n",
              "                                      mentionedUsers  \n",
              "0  Hangover of #INDvsPAK2022 is still around. #T2...  \n",
              "1  @TheBarmyArmy luv it \\n\\n❤️❤️❤️\\n\\n#INDvPAK \\n...  \n",
              "2                                      #INDvsPAK2022  \n",
              "3                          No ball thi #INDvsPAK2022  \n",
              "4  @mufaddal_vohra @ImRo45 \\n@BCCI \\n\\nWhen will\\...  "
            ],
            "text/html": [
              "\n",
              "  <div id=\"df-f996b21d-6a35-4efc-979e-95b7724f98f5\">\n",
              "    <div class=\"colab-df-container\">\n",
              "      <div>\n",
              "<style scoped>\n",
              "    .dataframe tbody tr th:only-of-type {\n",
              "        vertical-align: middle;\n",
              "    }\n",
              "\n",
              "    .dataframe tbody tr th {\n",
              "        vertical-align: top;\n",
              "    }\n",
              "\n",
              "    .dataframe thead th {\n",
              "        text-align: right;\n",
              "    }\n",
              "</style>\n",
              "<table border=\"1\" class=\"dataframe\">\n",
              "  <thead>\n",
              "    <tr style=\"text-align: right;\">\n",
              "      <th></th>\n",
              "      <th>id</th>\n",
              "      <th>username</th>\n",
              "      <th>hashtags</th>\n",
              "      <th>created_at</th>\n",
              "      <th>user followers count</th>\n",
              "      <th>replycount</th>\n",
              "      <th>retweetcount</th>\n",
              "      <th>likecount</th>\n",
              "      <th>quotecount</th>\n",
              "      <th>language</th>\n",
              "      <th>quotedtweet</th>\n",
              "      <th>inReplyToTweetId</th>\n",
              "      <th>inReplyToUser</th>\n",
              "      <th>mentionedUsers</th>\n",
              "    </tr>\n",
              "  </thead>\n",
              "  <tbody>\n",
              "    <tr>\n",
              "      <th>0</th>\n",
              "      <td>1584689793698791424</td>\n",
              "      <td>drivesnflicks</td>\n",
              "      <td>['INDvsPAK2022', 'T20WorldCup']</td>\n",
              "      <td>2022-10-24 23:34:23+00:00</td>\n",
              "      <td>538</td>\n",
              "      <td>0</td>\n",
              "      <td>0</td>\n",
              "      <td>6</td>\n",
              "      <td>0</td>\n",
              "      <td>en</td>\n",
              "      <td>NaN</td>\n",
              "      <td>NaN</td>\n",
              "      <td>NaN</td>\n",
              "      <td>Hangover of #INDvsPAK2022 is still around. #T2...</td>\n",
              "    </tr>\n",
              "    <tr>\n",
              "      <th>1</th>\n",
              "      <td>1584684371512291330</td>\n",
              "      <td>Krishna59638949</td>\n",
              "      <td>['INDvPAK', 'indvspakmatch', 'INDvsPAK2022']</td>\n",
              "      <td>2022-10-24 23:12:50+00:00</td>\n",
              "      <td>24</td>\n",
              "      <td>0</td>\n",
              "      <td>0</td>\n",
              "      <td>0</td>\n",
              "      <td>0</td>\n",
              "      <td>en</td>\n",
              "      <td>NaN</td>\n",
              "      <td>1.584539e+18</td>\n",
              "      <td>https://twitter.com/TheBarmyArmy</td>\n",
              "      <td>@TheBarmyArmy luv it \\n\\n❤️❤️❤️\\n\\n#INDvPAK \\n...</td>\n",
              "    </tr>\n",
              "    <tr>\n",
              "      <th>2</th>\n",
              "      <td>1584684147339296768</td>\n",
              "      <td>kingbabar__</td>\n",
              "      <td>['INDvsPAK2022']</td>\n",
              "      <td>2022-10-24 23:11:57+00:00</td>\n",
              "      <td>56</td>\n",
              "      <td>0</td>\n",
              "      <td>0</td>\n",
              "      <td>0</td>\n",
              "      <td>0</td>\n",
              "      <td>qht</td>\n",
              "      <td>NaN</td>\n",
              "      <td>NaN</td>\n",
              "      <td>NaN</td>\n",
              "      <td>#INDvsPAK2022</td>\n",
              "    </tr>\n",
              "    <tr>\n",
              "      <th>3</th>\n",
              "      <td>1584684139839905792</td>\n",
              "      <td>kingbabar__</td>\n",
              "      <td>['INDvsPAK2022']</td>\n",
              "      <td>2022-10-24 23:11:55+00:00</td>\n",
              "      <td>56</td>\n",
              "      <td>0</td>\n",
              "      <td>0</td>\n",
              "      <td>0</td>\n",
              "      <td>0</td>\n",
              "      <td>en</td>\n",
              "      <td>NaN</td>\n",
              "      <td>NaN</td>\n",
              "      <td>NaN</td>\n",
              "      <td>No ball thi #INDvsPAK2022</td>\n",
              "    </tr>\n",
              "    <tr>\n",
              "      <th>4</th>\n",
              "      <td>1584681884210319360</td>\n",
              "      <td>Krishna59638949</td>\n",
              "      <td>['INDvPAK', 'INDvsPAK2022', 'T20Cricket']</td>\n",
              "      <td>2022-10-24 23:02:57+00:00</td>\n",
              "      <td>24</td>\n",
              "      <td>1</td>\n",
              "      <td>0</td>\n",
              "      <td>0</td>\n",
              "      <td>0</td>\n",
              "      <td>en</td>\n",
              "      <td>NaN</td>\n",
              "      <td>1.584460e+18</td>\n",
              "      <td>https://twitter.com/mufaddal_vohra</td>\n",
              "      <td>@mufaddal_vohra @ImRo45 \\n@BCCI \\n\\nWhen will\\...</td>\n",
              "    </tr>\n",
              "  </tbody>\n",
              "</table>\n",
              "</div>\n",
              "      <button class=\"colab-df-convert\" onclick=\"convertToInteractive('df-f996b21d-6a35-4efc-979e-95b7724f98f5')\"\n",
              "              title=\"Convert this dataframe to an interactive table.\"\n",
              "              style=\"display:none;\">\n",
              "        \n",
              "  <svg xmlns=\"http://www.w3.org/2000/svg\" height=\"24px\"viewBox=\"0 0 24 24\"\n",
              "       width=\"24px\">\n",
              "    <path d=\"M0 0h24v24H0V0z\" fill=\"none\"/>\n",
              "    <path d=\"M18.56 5.44l.94 2.06.94-2.06 2.06-.94-2.06-.94-.94-2.06-.94 2.06-2.06.94zm-11 1L8.5 8.5l.94-2.06 2.06-.94-2.06-.94L8.5 2.5l-.94 2.06-2.06.94zm10 10l.94 2.06.94-2.06 2.06-.94-2.06-.94-.94-2.06-.94 2.06-2.06.94z\"/><path d=\"M17.41 7.96l-1.37-1.37c-.4-.4-.92-.59-1.43-.59-.52 0-1.04.2-1.43.59L10.3 9.45l-7.72 7.72c-.78.78-.78 2.05 0 2.83L4 21.41c.39.39.9.59 1.41.59.51 0 1.02-.2 1.41-.59l7.78-7.78 2.81-2.81c.8-.78.8-2.07 0-2.86zM5.41 20L4 18.59l7.72-7.72 1.47 1.35L5.41 20z\"/>\n",
              "  </svg>\n",
              "      </button>\n",
              "      \n",
              "  <style>\n",
              "    .colab-df-container {\n",
              "      display:flex;\n",
              "      flex-wrap:wrap;\n",
              "      gap: 12px;\n",
              "    }\n",
              "\n",
              "    .colab-df-convert {\n",
              "      background-color: #E8F0FE;\n",
              "      border: none;\n",
              "      border-radius: 50%;\n",
              "      cursor: pointer;\n",
              "      display: none;\n",
              "      fill: #1967D2;\n",
              "      height: 32px;\n",
              "      padding: 0 0 0 0;\n",
              "      width: 32px;\n",
              "    }\n",
              "\n",
              "    .colab-df-convert:hover {\n",
              "      background-color: #E2EBFA;\n",
              "      box-shadow: 0px 1px 2px rgba(60, 64, 67, 0.3), 0px 1px 3px 1px rgba(60, 64, 67, 0.15);\n",
              "      fill: #174EA6;\n",
              "    }\n",
              "\n",
              "    [theme=dark] .colab-df-convert {\n",
              "      background-color: #3B4455;\n",
              "      fill: #D2E3FC;\n",
              "    }\n",
              "\n",
              "    [theme=dark] .colab-df-convert:hover {\n",
              "      background-color: #434B5C;\n",
              "      box-shadow: 0px 1px 3px 1px rgba(0, 0, 0, 0.15);\n",
              "      filter: drop-shadow(0px 1px 2px rgba(0, 0, 0, 0.3));\n",
              "      fill: #FFFFFF;\n",
              "    }\n",
              "  </style>\n",
              "\n",
              "      <script>\n",
              "        const buttonEl =\n",
              "          document.querySelector('#df-f996b21d-6a35-4efc-979e-95b7724f98f5 button.colab-df-convert');\n",
              "        buttonEl.style.display =\n",
              "          google.colab.kernel.accessAllowed ? 'block' : 'none';\n",
              "\n",
              "        async function convertToInteractive(key) {\n",
              "          const element = document.querySelector('#df-f996b21d-6a35-4efc-979e-95b7724f98f5');\n",
              "          const dataTable =\n",
              "            await google.colab.kernel.invokeFunction('convertToInteractive',\n",
              "                                                     [key], {});\n",
              "          if (!dataTable) return;\n",
              "\n",
              "          const docLinkHtml = 'Like what you see? Visit the ' +\n",
              "            '<a target=\"_blank\" href=https://colab.research.google.com/notebooks/data_table.ipynb>data table notebook</a>'\n",
              "            + ' to learn more about interactive tables.';\n",
              "          element.innerHTML = '';\n",
              "          dataTable['output_type'] = 'display_data';\n",
              "          await google.colab.output.renderOutput(dataTable, element);\n",
              "          const docLink = document.createElement('div');\n",
              "          docLink.innerHTML = docLinkHtml;\n",
              "          element.appendChild(docLink);\n",
              "        }\n",
              "      </script>\n",
              "    </div>\n",
              "  </div>\n",
              "  "
            ]
          },
          "metadata": {},
          "execution_count": 77
        }
      ],
      "source": [
        "s=df.drop(['text'],axis=1)\n",
        "s.head()"
      ]
    },
    {
      "cell_type": "markdown",
      "metadata": {
        "id": "sJw6zBG4l2IT"
      },
      "source": [
        "#Exploratory Data Analysis\n"
      ]
    },
    {
      "cell_type": "code",
      "source": [
        "import matplotlib.pyplot as plt"
      ],
      "metadata": {
        "id": "a8wK9Dvd73GT"
      },
      "execution_count": null,
      "outputs": []
    },
    {
      "cell_type": "code",
      "source": [
        "import seaborn as sns"
      ],
      "metadata": {
        "id": "QWylbKG0AukC"
      },
      "execution_count": null,
      "outputs": []
    },
    {
      "cell_type": "code",
      "source": [
        "sns.lineplot(x=df.retweetcount,y=df.likecount)"
      ],
      "metadata": {
        "colab": {
          "base_uri": "https://localhost:8080/",
          "height": 302
        },
        "id": "q1ypKd4fCyJ1",
        "outputId": "4c6973cb-16c0-493f-d7c5-667ed1fb4b76"
      },
      "execution_count": null,
      "outputs": [
        {
          "output_type": "execute_result",
          "data": {
            "text/plain": [
              "<matplotlib.axes._subplots.AxesSubplot at 0x7f0330428350>"
            ]
          },
          "metadata": {},
          "execution_count": 81
        },
        {
          "output_type": "display_data",
          "data": {
            "text/plain": [
              "<Figure size 432x288 with 1 Axes>"
            ],
            "image/png": "[encoded data removed]"
          },
          "metadata": {}
        }
      ]
    },
    {
      "cell_type": "code",
      "source": [
        "sns.barplot(x=df.replycount,y=df.likecount)"
      ],
      "metadata": {
        "colab": {
          "base_uri": "https://localhost:8080/",
          "height": 302
        },
        "id": "edCRC5kRDOy3",
        "outputId": "0798f820-aad3-40ec-8e4e-c9b50e9592d2"
      },
      "execution_count": null,
      "outputs": [
        {
          "output_type": "execute_result",
          "data": {
            "text/plain": [
              "<matplotlib.axes._subplots.AxesSubplot at 0x7f0330284bd0>"
            ]
          },
          "metadata": {},
          "execution_count": 82
        },
        {
          "output_type": "display_data",
          "data": {
            "text/plain": [
              "<Figure size 432x288 with 1 Axes>"
            ],
            "image/png": "[encoded data removed]"
          },
          "metadata": {}
        }
      ]
    },
    {
      "cell_type": "markdown",
      "source": [
        "##K-Means model parameters study "
      ],
      "metadata": {
        "id": "6oKfcCQFEF1B"
      }
    },
    {
      "cell_type": "code",
      "source": [
        " import numpy as np\n",
        "import pandas as pd\n",
        "import statsmodels.api as sm\n",
        "import matplotlib.pyplot as plt\n",
        "import seaborn as sns\n",
        "sns.set()\n",
        "from sklearn.cluster import KMeans"
      ],
      "metadata": {
        "id": "2n4YMnDg9ALd"
      },
      "execution_count": null,
      "outputs": []
    },
    {
      "cell_type": "code",
      "source": [
        "data=pd.read_csv('/content/t20-cricket-world-cup-indvspak-tweets-2022/IndvsPak_tweets.csv')\n",
        "data"
      ],
      "metadata": {
        "colab": {
          "base_uri": "https://localhost:8080/",
          "height": 817
        },
        "id": "_SxoiQrSyio8",
        "outputId": "e944e1e9-ef49-4f80-f481-997454303f60"
      },
      "execution_count": null,
      "outputs": [
        {
          "output_type": "execute_result",
          "data": {
            "text/plain": [
              "                         id  \\\n",
              "0       1584689793698791424   \n",
              "1       1584684371512291330   \n",
              "2       1584684147339296768   \n",
              "3       1584684139839905792   \n",
              "4       1584681884210319360   \n",
              "...                     ...   \n",
              "272265  1584171715977887744   \n",
              "272266  1584171715717783552   \n",
              "272267  1584171715583971330   \n",
              "272268  1584171714598285312   \n",
              "272269  1584171713948180482   \n",
              "\n",
              "                                                     text         username  \\\n",
              "0       Hangover of #INDvsPAK2022 is still around. #T2...    drivesnflicks   \n",
              "1       @TheBarmyArmy luv it \\n\\n❤️❤️❤️\\n\\n#INDvPAK \\n...  Krishna59638949   \n",
              "2                                           #INDvsPAK2022      kingbabar__   \n",
              "3                               No ball thi #INDvsPAK2022      kingbabar__   \n",
              "4       @mufaddal_vohra @ImRo45 \\n@BCCI \\n\\nWhen will\\...  Krishna59638949   \n",
              "...                                                   ...              ...   \n",
              "272265             @imVkohli Use this as a dislike button  Labeed_Siddiqui   \n",
              "272266  @HSajwanization @imVkohli .. and massive #Hear...  karanpanjwani84   \n",
              "272267  @imVkohli Well played king your Father would b...   karansingh6780   \n",
              "272268      @imVkohli #GOAT #Kingkohli #Kingisalwaysaking   Kartikagarwal0   \n",
              "272269                    @imVkohli Thank you kingggg 🙌🏼💙    flexandchilll   \n",
              "\n",
              "                                            hashtags  \\\n",
              "0                    ['INDvsPAK2022', 'T20WorldCup']   \n",
              "1       ['INDvPAK', 'indvspakmatch', 'INDvsPAK2022']   \n",
              "2                                   ['INDvsPAK2022']   \n",
              "3                                   ['INDvsPAK2022']   \n",
              "4          ['INDvPAK', 'INDvsPAK2022', 'T20Cricket']   \n",
              "...                                              ...   \n",
              "272265                                           NaN   \n",
              "272266                                ['HeartBreak']   \n",
              "272267                                           NaN   \n",
              "272268    ['GOAT', 'Kingkohli', 'Kingisalwaysaking']   \n",
              "272269                                           NaN   \n",
              "\n",
              "                       created_at  user followers count  replycount  \\\n",
              "0       2022-10-24 23:34:23+00:00                   538           0   \n",
              "1       2022-10-24 23:12:50+00:00                    24           0   \n",
              "2       2022-10-24 23:11:57+00:00                    56           0   \n",
              "3       2022-10-24 23:11:55+00:00                    56           0   \n",
              "4       2022-10-24 23:02:57+00:00                    24           1   \n",
              "...                           ...                   ...         ...   \n",
              "272265  2022-10-23 13:15:44+00:00                  2281           0   \n",
              "272266  2022-10-23 13:15:44+00:00                    11           0   \n",
              "272267  2022-10-23 13:15:44+00:00                    55           0   \n",
              "272268  2022-10-23 13:15:43+00:00                    47           0   \n",
              "272269  2022-10-23 13:15:43+00:00                    20           0   \n",
              "\n",
              "        retweetcount  likecount  quotecount language  quotedtweet  \\\n",
              "0                  0          6           0       en          NaN   \n",
              "1                  0          0           0       en          NaN   \n",
              "2                  0          0           0      qht          NaN   \n",
              "3                  0          0           0       en          NaN   \n",
              "4                  0          0           0       en          NaN   \n",
              "...              ...        ...         ...      ...          ...   \n",
              "272265             0          5           0       en          NaN   \n",
              "272266             0          1           0       en          NaN   \n",
              "272267             0          0           0       en          NaN   \n",
              "272268             0          0           0      qme          NaN   \n",
              "272269             0          0           0       en          NaN   \n",
              "\n",
              "        inReplyToTweetId                       inReplyToUser  \\\n",
              "0                    NaN                                 NaN   \n",
              "1           1.584539e+18    https://twitter.com/TheBarmyArmy   \n",
              "2                    NaN                                 NaN   \n",
              "3                    NaN                                 NaN   \n",
              "4           1.584460e+18  https://twitter.com/mufaddal_vohra   \n",
              "...                  ...                                 ...   \n",
              "272265      1.584170e+18        https://twitter.com/imVkohli   \n",
              "272266      1.584157e+18  https://twitter.com/HSajwanization   \n",
              "272267      1.584170e+18        https://twitter.com/imVkohli   \n",
              "272268      1.584170e+18        https://twitter.com/imVkohli   \n",
              "272269      1.584170e+18        https://twitter.com/imVkohli   \n",
              "\n",
              "                                           mentionedUsers  \n",
              "0       Hangover of #INDvsPAK2022 is still around. #T2...  \n",
              "1       @TheBarmyArmy luv it \\n\\n❤️❤️❤️\\n\\n#INDvPAK \\n...  \n",
              "2                                           #INDvsPAK2022  \n",
              "3                               No ball thi #INDvsPAK2022  \n",
              "4       @mufaddal_vohra @ImRo45 \\n@BCCI \\n\\nWhen will\\...  \n",
              "...                                                   ...  \n",
              "272265             @imVkohli Use this as a dislike button  \n",
              "272266  @HSajwanization @imVkohli .. and massive #Hear...  \n",
              "272267  @imVkohli Well played king your Father would b...  \n",
              "272268      @imVkohli #GOAT #Kingkohli #Kingisalwaysaking  \n",
              "272269                    @imVkohli Thank you kingggg 🙌🏼💙  \n",
              "\n",
              "[272270 rows x 15 columns]"
            ],
            "text/html": [
              "\n",
              "  <div id=\"df-f64c4f7a-65eb-4662-943f-5787af380131\">\n",
              "    <div class=\"colab-df-container\">\n",
              "      <div>\n",
              "<style scoped>\n",
              "    .dataframe tbody tr th:only-of-type {\n",
              "        vertical-align: middle;\n",
              "    }\n",
              "\n",
              "    .dataframe tbody tr th {\n",
              "        vertical-align: top;\n",
              "    }\n",
              "\n",
              "    .dataframe thead th {\n",
              "        text-align: right;\n",
              "    }\n",
              "</style>\n",
              "<table border=\"1\" class=\"dataframe\">\n",
              "  <thead>\n",
              "    <tr style=\"text-align: right;\">\n",
              "      <th></th>\n",
              "      <th>id</th>\n",
              "      <th>text</th>\n",
              "      <th>username</th>\n",
              "      <th>hashtags</th>\n",
              "      <th>created_at</th>\n",
              "      <th>user followers count</th>\n",
              "      <th>replycount</th>\n",
              "      <th>retweetcount</th>\n",
              "      <th>likecount</th>\n",
              "      <th>quotecount</th>\n",
              "      <th>language</th>\n",
              "      <th>quotedtweet</th>\n",
              "      <th>inReplyToTweetId</th>\n",
              "      <th>inReplyToUser</th>\n",
              "      <th>mentionedUsers</th>\n",
              "    </tr>\n",
              "  </thead>\n",
              "  <tbody>\n",
              "    <tr>\n",
              "      <th>0</th>\n",
              "      <td>1584689793698791424</td>\n",
              "      <td>Hangover of #INDvsPAK2022 is still around. #T2...</td>\n",
              "      <td>drivesnflicks</td>\n",
              "      <td>['INDvsPAK2022', 'T20WorldCup']</td>\n",
              "      <td>2022-10-24 23:34:23+00:00</td>\n",
              "      <td>538</td>\n",
              "      <td>0</td>\n",
              "      <td>0</td>\n",
              "      <td>6</td>\n",
              "      <td>0</td>\n",
              "      <td>en</td>\n",
              "      <td>NaN</td>\n",
              "      <td>NaN</td>\n",
              "      <td>NaN</td>\n",
              "      <td>Hangover of #INDvsPAK2022 is still around. #T2...</td>\n",
              "    </tr>\n",
              "    <tr>\n",
              "      <th>1</th>\n",
              "      <td>1584684371512291330</td>\n",
              "      <td>@TheBarmyArmy luv it \\n\\n❤️❤️❤️\\n\\n#INDvPAK \\n...</td>\n",
              "      <td>Krishna59638949</td>\n",
              "      <td>['INDvPAK', 'indvspakmatch', 'INDvsPAK2022']</td>\n",
              "      <td>2022-10-24 23:12:50+00:00</td>\n",
              "      <td>24</td>\n",
              "      <td>0</td>\n",
              "      <td>0</td>\n",
              "      <td>0</td>\n",
              "      <td>0</td>\n",
              "      <td>en</td>\n",
              "      <td>NaN</td>\n",
              "      <td>1.584539e+18</td>\n",
              "      <td>https://twitter.com/TheBarmyArmy</td>\n",
              "      <td>@TheBarmyArmy luv it \\n\\n❤️❤️❤️\\n\\n#INDvPAK \\n...</td>\n",
              "    </tr>\n",
              "    <tr>\n",
              "      <th>2</th>\n",
              "      <td>1584684147339296768</td>\n",
              "      <td>#INDvsPAK2022</td>\n",
              "      <td>kingbabar__</td>\n",
              "      <td>['INDvsPAK2022']</td>\n",
              "      <td>2022-10-24 23:11:57+00:00</td>\n",
              "      <td>56</td>\n",
              "      <td>0</td>\n",
              "      <td>0</td>\n",
              "      <td>0</td>\n",
              "      <td>0</td>\n",
              "      <td>qht</td>\n",
              "      <td>NaN</td>\n",
              "      <td>NaN</td>\n",
              "      <td>NaN</td>\n",
              "      <td>#INDvsPAK2022</td>\n",
              "    </tr>\n",
              "    <tr>\n",
              "      <th>3</th>\n",
              "      <td>1584684139839905792</td>\n",
              "      <td>No ball thi #INDvsPAK2022</td>\n",
              "      <td>kingbabar__</td>\n",
              "      <td>['INDvsPAK2022']</td>\n",
              "      <td>2022-10-24 23:11:55+00:00</td>\n",
              "      <td>56</td>\n",
              "      <td>0</td>\n",
              "      <td>0</td>\n",
              "      <td>0</td>\n",
              "      <td>0</td>\n",
              "      <td>en</td>\n",
              "      <td>NaN</td>\n",
              "      <td>NaN</td>\n",
              "      <td>NaN</td>\n",
              "      <td>No ball thi #INDvsPAK2022</td>\n",
              "    </tr>\n",
              "    <tr>\n",
              "      <th>4</th>\n",
              "      <td>1584681884210319360</td>\n",
              "      <td>@mufaddal_vohra @ImRo45 \\n@BCCI \\n\\nWhen will\\...</td>\n",
              "      <td>Krishna59638949</td>\n",
              "      <td>['INDvPAK', 'INDvsPAK2022', 'T20Cricket']</td>\n",
              "      <td>2022-10-24 23:02:57+00:00</td>\n",
              "      <td>24</td>\n",
              "      <td>1</td>\n",
              "      <td>0</td>\n",
              "      <td>0</td>\n",
              "      <td>0</td>\n",
              "      <td>en</td>\n",
              "      <td>NaN</td>\n",
              "      <td>1.584460e+18</td>\n",
              "      <td>https://twitter.com/mufaddal_vohra</td>\n",
              "      <td>@mufaddal_vohra @ImRo45 \\n@BCCI \\n\\nWhen will\\...</td>\n",
              "    </tr>\n",
              "    <tr>\n",
              "      <th>...</th>\n",
              "      <td>...</td>\n",
              "      <td>...</td>\n",
              "      <td>...</td>\n",
              "      <td>...</td>\n",
              "      <td>...</td>\n",
              "      <td>...</td>\n",
              "      <td>...</td>\n",
              "      <td>...</td>\n",
              "      <td>...</td>\n",
              "      <td>...</td>\n",
              "      <td>...</td>\n",
              "      <td>...</td>\n",
              "      <td>...</td>\n",
              "      <td>...</td>\n",
              "      <td>...</td>\n",
              "    </tr>\n",
              "    <tr>\n",
              "      <th>272265</th>\n",
              "      <td>1584171715977887744</td>\n",
              "      <td>@imVkohli Use this as a dislike button</td>\n",
              "      <td>Labeed_Siddiqui</td>\n",
              "      <td>NaN</td>\n",
              "      <td>2022-10-23 13:15:44+00:00</td>\n",
              "      <td>2281</td>\n",
              "      <td>0</td>\n",
              "      <td>0</td>\n",
              "      <td>5</td>\n",
              "      <td>0</td>\n",
              "      <td>en</td>\n",
              "      <td>NaN</td>\n",
              "      <td>1.584170e+18</td>\n",
              "      <td>https://twitter.com/imVkohli</td>\n",
              "      <td>@imVkohli Use this as a dislike button</td>\n",
              "    </tr>\n",
              "    <tr>\n",
              "      <th>272266</th>\n",
              "      <td>1584171715717783552</td>\n",
              "      <td>@HSajwanization @imVkohli .. and massive #Hear...</td>\n",
              "      <td>karanpanjwani84</td>\n",
              "      <td>['HeartBreak']</td>\n",
              "      <td>2022-10-23 13:15:44+00:00</td>\n",
              "      <td>11</td>\n",
              "      <td>0</td>\n",
              "      <td>0</td>\n",
              "      <td>1</td>\n",
              "      <td>0</td>\n",
              "      <td>en</td>\n",
              "      <td>NaN</td>\n",
              "      <td>1.584157e+18</td>\n",
              "      <td>https://twitter.com/HSajwanization</td>\n",
              "      <td>@HSajwanization @imVkohli .. and massive #Hear...</td>\n",
              "    </tr>\n",
              "    <tr>\n",
              "      <th>272267</th>\n",
              "      <td>1584171715583971330</td>\n",
              "      <td>@imVkohli Well played king your Father would b...</td>\n",
              "      <td>karansingh6780</td>\n",
              "      <td>NaN</td>\n",
              "      <td>2022-10-23 13:15:44+00:00</td>\n",
              "      <td>55</td>\n",
              "      <td>0</td>\n",
              "      <td>0</td>\n",
              "      <td>0</td>\n",
              "      <td>0</td>\n",
              "      <td>en</td>\n",
              "      <td>NaN</td>\n",
              "      <td>1.584170e+18</td>\n",
              "      <td>https://twitter.com/imVkohli</td>\n",
              "      <td>@imVkohli Well played king your Father would b...</td>\n",
              "    </tr>\n",
              "    <tr>\n",
              "      <th>272268</th>\n",
              "      <td>1584171714598285312</td>\n",
              "      <td>@imVkohli #GOAT #Kingkohli #Kingisalwaysaking</td>\n",
              "      <td>Kartikagarwal0</td>\n",
              "      <td>['GOAT', 'Kingkohli', 'Kingisalwaysaking']</td>\n",
              "      <td>2022-10-23 13:15:43+00:00</td>\n",
              "      <td>47</td>\n",
              "      <td>0</td>\n",
              "      <td>0</td>\n",
              "      <td>0</td>\n",
              "      <td>0</td>\n",
              "      <td>qme</td>\n",
              "      <td>NaN</td>\n",
              "      <td>1.584170e+18</td>\n",
              "      <td>https://twitter.com/imVkohli</td>\n",
              "      <td>@imVkohli #GOAT #Kingkohli #Kingisalwaysaking</td>\n",
              "    </tr>\n",
              "    <tr>\n",
              "      <th>272269</th>\n",
              "      <td>1584171713948180482</td>\n",
              "      <td>@imVkohli Thank you kingggg 🙌🏼💙</td>\n",
              "      <td>flexandchilll</td>\n",
              "      <td>NaN</td>\n",
              "      <td>2022-10-23 13:15:43+00:00</td>\n",
              "      <td>20</td>\n",
              "      <td>0</td>\n",
              "      <td>0</td>\n",
              "      <td>0</td>\n",
              "      <td>0</td>\n",
              "      <td>en</td>\n",
              "      <td>NaN</td>\n",
              "      <td>1.584170e+18</td>\n",
              "      <td>https://twitter.com/imVkohli</td>\n",
              "      <td>@imVkohli Thank you kingggg 🙌🏼💙</td>\n",
              "    </tr>\n",
              "  </tbody>\n",
              "</table>\n",
              "<p>272270 rows × 15 columns</p>\n",
              "</div>\n",
              "      <button class=\"colab-df-convert\" onclick=\"convertToInteractive('df-f64c4f7a-65eb-4662-943f-5787af380131')\"\n",
              "              title=\"Convert this dataframe to an interactive table.\"\n",
              "              style=\"display:none;\">\n",
              "        \n",
              "  <svg xmlns=\"http://www.w3.org/2000/svg\" height=\"24px\"viewBox=\"0 0 24 24\"\n",
              "       width=\"24px\">\n",
              "    <path d=\"M0 0h24v24H0V0z\" fill=\"none\"/>\n",
              "    <path d=\"M18.56 5.44l.94 2.06.94-2.06 2.06-.94-2.06-.94-.94-2.06-.94 2.06-2.06.94zm-11 1L8.5 8.5l.94-2.06 2.06-.94-2.06-.94L8.5 2.5l-.94 2.06-2.06.94zm10 10l.94 2.06.94-2.06 2.06-.94-2.06-.94-.94-2.06-.94 2.06-2.06.94z\"/><path d=\"M17.41 7.96l-1.37-1.37c-.4-.4-.92-.59-1.43-.59-.52 0-1.04.2-1.43.59L10.3 9.45l-7.72 7.72c-.78.78-.78 2.05 0 2.83L4 21.41c.39.39.9.59 1.41.59.51 0 1.02-.2 1.41-.59l7.78-7.78 2.81-2.81c.8-.78.8-2.07 0-2.86zM5.41 20L4 18.59l7.72-7.72 1.47 1.35L5.41 20z\"/>\n",
              "  </svg>\n",
              "      </button>\n",
              "      \n",
              "  <style>\n",
              "    .colab-df-container {\n",
              "      display:flex;\n",
              "      flex-wrap:wrap;\n",
              "      gap: 12px;\n",
              "    }\n",
              "\n",
              "    .colab-df-convert {\n",
              "      background-color: #E8F0FE;\n",
              "      border: none;\n",
              "      border-radius: 50%;\n",
              "      cursor: pointer;\n",
              "      display: none;\n",
              "      fill: #1967D2;\n",
              "      height: 32px;\n",
              "      padding: 0 0 0 0;\n",
              "      width: 32px;\n",
              "    }\n",
              "\n",
              "    .colab-df-convert:hover {\n",
              "      background-color: #E2EBFA;\n",
              "      box-shadow: 0px 1px 2px rgba(60, 64, 67, 0.3), 0px 1px 3px 1px rgba(60, 64, 67, 0.15);\n",
              "      fill: #174EA6;\n",
              "    }\n",
              "\n",
              "    [theme=dark] .colab-df-convert {\n",
              "      background-color: #3B4455;\n",
              "      fill: #D2E3FC;\n",
              "    }\n",
              "\n",
              "    [theme=dark] .colab-df-convert:hover {\n",
              "      background-color: #434B5C;\n",
              "      box-shadow: 0px 1px 3px 1px rgba(0, 0, 0, 0.15);\n",
              "      filter: drop-shadow(0px 1px 2px rgba(0, 0, 0, 0.3));\n",
              "      fill: #FFFFFF;\n",
              "    }\n",
              "  </style>\n",
              "\n",
              "      <script>\n",
              "        const buttonEl =\n",
              "          document.querySelector('#df-f64c4f7a-65eb-4662-943f-5787af380131 button.colab-df-convert');\n",
              "        buttonEl.style.display =\n",
              "          google.colab.kernel.accessAllowed ? 'block' : 'none';\n",
              "\n",
              "        async function convertToInteractive(key) {\n",
              "          const element = document.querySelector('#df-f64c4f7a-65eb-4662-943f-5787af380131');\n",
              "          const dataTable =\n",
              "            await google.colab.kernel.invokeFunction('convertToInteractive',\n",
              "                                                     [key], {});\n",
              "          if (!dataTable) return;\n",
              "\n",
              "          const docLinkHtml = 'Like what you see? Visit the ' +\n",
              "            '<a target=\"_blank\" href=https://colab.research.google.com/notebooks/data_table.ipynb>data table notebook</a>'\n",
              "            + ' to learn more about interactive tables.';\n",
              "          element.innerHTML = '';\n",
              "          dataTable['output_type'] = 'display_data';\n",
              "          await google.colab.output.renderOutput(dataTable, element);\n",
              "          const docLink = document.createElement('div');\n",
              "          docLink.innerHTML = docLinkHtml;\n",
              "          element.appendChild(docLink);\n",
              "        }\n",
              "      </script>\n",
              "    </div>\n",
              "  </div>\n",
              "  "
            ]
          },
          "metadata": {},
          "execution_count": 84
        }
      ]
    },
    {
      "cell_type": "code",
      "source": [
        "import seaborn as sns\n",
        "from sklearn.datasets import make_blobs\n",
        "import matplotlib.pyplot as plt\n",
        "from sklearn.preprocessing import StandardScaler\n",
        "centers = 5\n",
        "X_train, true_labels = make_blobs(n_samples=100, centers=centers, random_state=42)\n",
        "X_train = StandardScaler().fit_transform(X_train)\n",
        "sns.scatterplot(x=[X[0] for X in X_train],\n",
        "                y=[X[1] for X in X_train],\n",
        "                hue=true_labels,\n",
        "                palette=\"deep\",\n",
        "                legend=None\n",
        "                )\n",
        "plt.xlabel(\"x\")\n",
        "plt.ylabel(\"y\")\n",
        "plt.show()"
      ],
      "metadata": {
        "colab": {
          "base_uri": "https://localhost:8080/",
          "height": 286
        },
        "id": "Is7cxFwpyi-J",
        "outputId": "6b135ab2-a5d4-42ca-c329-7550f2eea7f5"
      },
      "execution_count": null,
      "outputs": [
        {
          "output_type": "display_data",
          "data": {
            "text/plain": [
              "<Figure size 432x288 with 1 Axes>"
            ],
            "image/png": "[encoded data removed]"
          },
          "metadata": {}
        }
      ]
    },
    {
      "cell_type": "markdown",
      "source": [
        "#Summary and Conclusion\n",
        "#####The tweets are collected during the high voltage clash between the archivals ind vs pak\n",
        "#####The tweets is a large consists of 272270 unique tweets"
      ],
      "metadata": {
        "id": "K__xz0z6E2tG"
      }
    },
    {
      "cell_type": "code",
      "source": [
        "df.retweetcount"
      ],
      "metadata": {
        "colab": {
          "base_uri": "https://localhost:8080/"
        },
        "id": "wj_B5gibE4jm",
        "outputId": "bb5c948b-0628-41ab-ae96-a3fe72239008"
      },
      "execution_count": null,
      "outputs": [
        {
          "output_type": "execute_result",
          "data": {
            "text/plain": [
              "0         0\n",
              "1         0\n",
              "2         0\n",
              "3         0\n",
              "4         0\n",
              "         ..\n",
              "272265    0\n",
              "272266    0\n",
              "272267    0\n",
              "272268    0\n",
              "272269    0\n",
              "Name: retweetcount, Length: 272270, dtype: int64"
            ]
          },
          "metadata": {},
          "execution_count": 86
        }
      ]
    },
    {
      "cell_type": "code",
      "source": [
        "df.quotecount"
      ],
      "metadata": {
        "colab": {
          "base_uri": "https://localhost:8080/"
        },
        "id": "q5UkIqBUE4th",
        "outputId": "3aacf59a-22a2-4c1e-f979-424a8a1d94de"
      },
      "execution_count": null,
      "outputs": [
        {
          "output_type": "execute_result",
          "data": {
            "text/plain": [
              "0         0\n",
              "1         0\n",
              "2         0\n",
              "3         0\n",
              "4         0\n",
              "         ..\n",
              "272265    0\n",
              "272266    0\n",
              "272267    0\n",
              "272268    0\n",
              "272269    0\n",
              "Name: quotecount, Length: 272270, dtype: int64"
            ]
          },
          "metadata": {},
          "execution_count": 87
        }
      ]
    },
    {
      "cell_type": "code",
      "source": [
        "df.likecount"
      ],
      "metadata": {
        "colab": {
          "base_uri": "https://localhost:8080/"
        },
        "id": "6q2_3gqEFNtK",
        "outputId": "a9b43312-1fe5-4de5-ee1e-0c74c4cd707d"
      },
      "execution_count": null,
      "outputs": [
        {
          "output_type": "execute_result",
          "data": {
            "text/plain": [
              "0         6\n",
              "1         0\n",
              "2         0\n",
              "3         0\n",
              "4         0\n",
              "         ..\n",
              "272265    5\n",
              "272266    1\n",
              "272267    0\n",
              "272268    0\n",
              "272269    0\n",
              "Name: likecount, Length: 272270, dtype: int64"
            ]
          },
          "metadata": {},
          "execution_count": 88
        }
      ]
    },
    {
      "cell_type": "markdown",
      "source": [
        "**Results and conclusion** \n",
        "\n",
        "*Table of Contents*\n",
        "\n",
        "1.In this project, I have implemented the most popular unsupervised clustering technique called K-Means Clustering.\n",
        "\n",
        "2.I have applied the elbow method and find that k=2 (k is number of clusters) can be considered a good number of cluster to cluster this data.\n",
        "\n",
        "3.I have find that the model has very high inertia of 1497409.9117976718. \n",
        "So, this is not a good model fit to the data.\n",
        "\n",
        "4.I have achieved a weak classification accuracy of 0% with k=2 by our unsupervised model.\n",
        "\n",
        "5.So, I have changed the value of k and find relatively higher classification accuracy of 62% with k=4.\n",
        "\n",
        "Hence, we can conclude that k=4 being the optimal number of clusters."
      ],
      "metadata": {
        "id": "KJyiJ6ZMD7Y0"
      }
    }
  ],
  "metadata": {
    "kernelspec": {
      "display_name": "Python 3",
      "language": "python",
      "name": "python3"
    },
    "language_info": {
      "codemirror_mode": {
        "name": "ipython",
        "version": 3
      },
      "file_extension": ".py",
      "mimetype": "text/x-python",
      "name": "python",
      "nbconvert_exporter": "python",
      "pygments_lexer": "ipython3",
      "version": "3.7.6"
    },
    "colab": {
      "provenance": [],
      "include_colab_link": true
    }
  },
  "nbformat": 4,
  "nbformat_minor": 0
}